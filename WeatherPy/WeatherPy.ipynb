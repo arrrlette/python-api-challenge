{
 "cells": [
  {
   "cell_type": "markdown",
   "metadata": {},
   "source": [
    "# WeatherPy\n",
    "----\n",
    "\n",
    "#### Note\n",
    "* Instructions have been included for each segment. You do not have to follow them exactly, but they are included to help you think through the steps."
   ]
  },
  {
   "cell_type": "code",
   "execution_count": 50,
   "metadata": {
    "scrolled": true
   },
   "outputs": [],
   "source": [
    "# Dependencies and Setup\n",
    "import matplotlib.pyplot as plt\n",
    "import pandas as pd\n",
    "import numpy as np\n",
    "import requests\n",
    "import time\n",
    "from scipy.stats import linregress\n",
    "import scipy.stats as st\n",
    "import json\n",
    "from pprint import pprint\n",
    "\n",
    "# Import API key\n",
    "from api_keys import weather_api_key\n",
    "\n",
    "# Incorporated citipy to determine city based on latitude and longitude\n",
    "from citipy import citipy\n",
    "\n",
    "# Output File (CSV)\n",
    "output_data_file = \"output_data/cities.csv\"\n",
    "\n",
    "# Range of latitudes and longitudes\n",
    "lat_range = (-90, 90)\n",
    "lng_range = (-180, 180)"
   ]
  },
  {
   "cell_type": "markdown",
   "metadata": {},
   "source": [
    "## Generate Cities List"
   ]
  },
  {
   "cell_type": "code",
   "execution_count": 13,
   "metadata": {},
   "outputs": [
    {
     "data": {
      "text/plain": [
       "596"
      ]
     },
     "execution_count": 13,
     "metadata": {},
     "output_type": "execute_result"
    }
   ],
   "source": [
    "# List for holding lat_lngs and cities\n",
    "lat_lngs = []\n",
    "cities = []\n",
    "\n",
    "# Create a set of random lat and lng combinations\n",
    "lats = np.random.uniform(lat_range[0], lat_range[1], size=1500)\n",
    "lngs = np.random.uniform(lng_range[0], lng_range[1], size=1500)\n",
    "lat_lngs = zip(lats, lngs)\n",
    "\n",
    "# Identify nearest city for each lat, lng combination\n",
    "for lat_lng in lat_lngs:\n",
    "    city = citipy.nearest_city(lat_lng[0], lat_lng[1]).city_name\n",
    "    \n",
    "    # If the city is unique, then add it to a our cities list\n",
    "    if city not in cities:\n",
    "        cities.append(city)\n",
    "\n",
    "# Print the city count to confirm sufficient count\n",
    "len(cities)\n"
   ]
  },
  {
   "cell_type": "markdown",
   "metadata": {},
   "source": [
    "### Perform API Calls\n",
    "* Perform a weather check on each city using a series of successive API calls.\n",
    "* Include a print log of each city as it'sbeing processed (with the city number and city name).\n"
   ]
  },
  {
   "cell_type": "code",
   "execution_count": 14,
   "metadata": {},
   "outputs": [
    {
     "name": "stdout",
     "output_type": "stream",
     "text": [
      "{'base': 'stations',\n",
      " 'clouds': {'all': 13},\n",
      " 'cod': 200,\n",
      " 'coord': {'lat': 16.33, 'lon': -15},\n",
      " 'dt': 1594404858,\n",
      " 'id': 2246451,\n",
      " 'main': {'feels_like': 107.38,\n",
      "          'humidity': 33,\n",
      "          'pressure': 1005,\n",
      "          'temp': 102.2,\n",
      "          'temp_max': 102.2,\n",
      "          'temp_min': 102.2},\n",
      " 'name': 'Saint-Louis',\n",
      " 'sys': {'country': 'SN',\n",
      "         'id': 2427,\n",
      "         'sunrise': 1594362841,\n",
      "         'sunset': 1594409784,\n",
      "         'type': 1},\n",
      " 'timezone': 0,\n",
      " 'visibility': 10000,\n",
      " 'weather': [{'description': 'few clouds',\n",
      "              'icon': '02d',\n",
      "              'id': 801,\n",
      "              'main': 'Clouds'}],\n",
      " 'wind': {'deg': 280, 'speed': 2.24}}\n"
     ]
    }
   ],
   "source": [
    "#save config info\n",
    "url = \"http://api.openweathermap.org/data/2.5/weather?units=Imperial&\"\n",
    "\n",
    "# Build query URL\n",
    "query_url = url + \"appid=\" + weather_api_key + \"&q=\"\n",
    "\n",
    "#get weather data and convert reponse to json\n",
    "weather_response = requests.get(query_url + city)\n",
    "weather_json = weather_response.json()\n",
    "\n",
    "pprint(weather_json)\n",
    "\n"
   ]
  },
  {
   "cell_type": "code",
   "execution_count": 15,
   "metadata": {},
   "outputs": [
    {
     "name": "stdout",
     "output_type": "stream",
     "text": [
      "City Name: Tommot / ID:2015179\n",
      "City Name: Ushuaia / ID:3833367\n",
      "City Name: Butaritari / ID:2110227\n",
      "City Name: Leningradskiy / ID:2123814\n",
      "Missing city...skipping | taolanaro\n",
      "City Name: Port Alfred / ID:964432\n",
      "City Name: Hobart / ID:2163355\n",
      "City Name: Kaitangata / ID:2208248\n",
      "City Name: Cape Town / ID:3369157\n",
      "City Name: Hervey Bay / ID:2146219\n",
      "City Name: Busselton / ID:2075265\n",
      "City Name: Constantine / ID:2501152\n",
      "City Name: Khatanga / ID:2022572\n",
      "Missing city...skipping | tumannyy\n",
      "City Name: Margate / ID:2643044\n",
      "City Name: San Patricio / ID:3985168\n",
      "City Name: Colmenar Viejo / ID:3124765\n",
      "City Name: Atuona / ID:4020109\n",
      "Missing city...skipping | galiwinku\n",
      "City Name: Ust-Nera / ID:2120048\n",
      "City Name: Avera / ID:4231997\n",
      "City Name: Bluff / ID:2206939\n",
      "City Name: Dingle / ID:1714733\n",
      "City Name: Qaanaaq / ID:3831208\n",
      "City Name: New Norfolk / ID:2155415\n",
      "City Name: Katsuura / ID:2112309\n",
      "City Name: Ubari / ID:2219235\n",
      "City Name: Tiksi / ID:2015306\n",
      "City Name: São Filipe / ID:3374210\n",
      "City Name: Hurricane / ID:5540831\n",
      "Missing city...skipping | belushya guba\n",
      "City Name: Ust'-Uda / ID:2013865\n",
      "City Name: Albany / ID:5106841\n",
      "City Name: Alyangula / ID:2079582\n",
      "City Name: Lata / ID:2738381\n",
      "City Name: Zonguldak / ID:737021\n",
      "City Name: Urucará / ID:3385670\n",
      "City Name: Athabasca / ID:5887916\n",
      "City Name: Nikolskoye / ID:546105\n",
      "City Name: Port Elizabeth / ID:964420\n",
      "City Name: Mataura / ID:6201424\n",
      "City Name: Chokurdakh / ID:2126123\n",
      "City Name: Huai'an / ID:1797873\n",
      "City Name: Severo-Kuril'sk / ID:2121385\n",
      "City Name: Porto-Novo / ID:2392087\n",
      "City Name: Rikitea / ID:4030556\n",
      "City Name: Viedma / ID:3832899\n",
      "Missing city...skipping | tapaua\n",
      "City Name: Bilecik Province / ID:321122\n",
      "City Name: Norman Wells / ID:6089245\n",
      "City Name: Barrow / ID:5880054\n",
      "Missing city...skipping | burica\n",
      "City Name: Srandakan / ID:1626493\n",
      "City Name: Hilo / ID:5855927\n",
      "City Name: Lompoc / ID:5367788\n",
      "City Name: Vao / ID:2137773\n",
      "City Name: Bairiki Village / ID:7601762\n",
      "City Name: Coos Bay / ID:5720495\n",
      "Missing city...skipping | barentsburg\n",
      "City Name: Cabo San Lucas / ID:3985710\n",
      "City Name: Saint Paul Harbor / ID:5866583\n",
      "City Name: Kapaa / ID:5848280\n",
      "City Name: Qian’an / ID:2035410\n",
      "City Name: Punta Arenas / ID:3874787\n",
      "City Name: Termez / ID:1215957\n",
      "City Name: Carnarvon / ID:2074865\n",
      "City Name: Vaini / ID:4032243\n",
      "City Name: Pacific Grove / ID:5380437\n",
      "City Name: Hermanus / ID:3366880\n",
      "Missing city...skipping | grand river south east\n",
      "City Name: Sørland / ID:3137469\n",
      "City Name: Zhigansk / ID:2012530\n",
      "City Name: Zhalantun / ID:2033225\n",
      "Missing city...skipping | khonuu\n",
      "City Name: Shimoda / ID:1852357\n",
      "City Name: Hay River / ID:5972762\n",
      "City Name: Varhaug / ID:3132644\n",
      "City Name: Avarua / ID:4035715\n",
      "City Name: Provideniya / ID:4031574\n",
      "City Name: Amarpur / ID:1278895\n",
      "City Name: Dikson / ID:1507390\n",
      "City Name: Ciudad del Maíz / ID:3530598\n",
      "City Name: Wilmington / ID:4499379\n",
      "City Name: Saldanha / ID:3361934\n",
      "Missing city...skipping | boljarovo\n",
      "City Name: Rebrikha / ID:1493722\n",
      "City Name: Jamestown / ID:5122534\n",
      "City Name: George Town / ID:1735106\n",
      "City Name: Kushiro / ID:2129376\n",
      "City Name: Esperance / ID:2071860\n",
      "City Name: Makakilo City / ID:5850554\n",
      "City Name: Ribeira Grande / ID:3372707\n",
      "City Name: Tuktoyaktuk / ID:6170031\n",
      "City Name: Te Anau / ID:2181625\n",
      "City Name: Sabang / ID:1214026\n",
      "City Name: Faanui / ID:4034551\n",
      "City Name: Alegrete / ID:3472638\n",
      "City Name: São João da Barra / ID:3448903\n",
      "City Name: Arraial do Cabo / ID:3471451\n",
      "City Name: Muros / ID:3115824\n",
      "City Name: Pevek / ID:2122090\n",
      "City Name: Puerto Ayora / ID:3652764\n",
      "City Name: Torbay / ID:6167817\n",
      "City Name: Kurumkan / ID:2021188\n",
      "City Name: Nishihara / ID:1855342\n",
      "Missing city...skipping | mys shmidta\n",
      "Missing city...skipping | sentyabrskiy\n",
      "City Name: Mahajanga / ID:1062663\n",
      "Missing city...skipping | illoqqortoormiut\n",
      "City Name: Sorong / ID:1626542\n",
      "City Name: Kokopo / ID:2093685\n",
      "City Name: Bengkulu / ID:1649150\n",
      "City Name: Vestmannaeyjar / ID:3412093\n",
      "City Name: Vanimo / ID:2084442\n",
      "Missing city...skipping | palabuhanratu\n",
      "City Name: Homer / ID:5864145\n",
      "City Name: Hong Kong / ID:1819729\n",
      "City Name: Boundiali / ID:2290836\n",
      "City Name: Gogrial / ID:374739\n",
      "City Name: Banamba / ID:2460546\n",
      "City Name: San Policarpo / ID:1688696\n",
      "City Name: Codrington / ID:2171099\n",
      "City Name: Bahía Solano / ID:3689325\n",
      "City Name: Manokwari / ID:1636308\n",
      "City Name: Dhidhdhoo / ID:1337612\n",
      "City Name: Mehamn / ID:778707\n",
      "City Name: Warrington / ID:2634739\n",
      "City Name: Aquin / ID:3731095\n",
      "City Name: Castro / ID:3466704\n",
      "City Name: Hofn / ID:2630299\n",
      "Missing city...skipping | nizhneyansk\n",
      "City Name: Saskylakh / ID:2017155\n",
      "City Name: Āsosa / ID:343292\n",
      "City Name: Severnoye / ID:1492607\n",
      "City Name: Denpasar / ID:1645528\n",
      "City Name: Hasaki / ID:2112802\n",
      "City Name: Beringovskiy / ID:2126710\n",
      "City Name: Guerrero / ID:3527213\n",
      "City Name: Topolobampo / ID:3981345\n",
      "City Name: Talnakh / ID:1490256\n",
      "City Name: Kunming / ID:1804651\n",
      "City Name: Lebu / ID:3883457\n",
      "City Name: Kumul / ID:1529484\n",
      "Missing city...skipping | ijaki\n",
      "City Name: Tasiilaq / ID:3424607\n",
      "City Name: Marsh Harbour / ID:3571913\n",
      "City Name: Kermanshah / ID:128226\n",
      "City Name: Taltal / ID:3870243\n",
      "City Name: Praia da Vitória / ID:3372760\n",
      "City Name: Arica / ID:3899361\n",
      "City Name: Havre-St-Pierre / ID:5972291\n",
      "City Name: Bambous Virieux / ID:1106677\n",
      "City Name: East London / ID:1006984\n",
      "City Name: Bethel / ID:5282297\n",
      "City Name: Ossora / ID:2122389\n",
      "City Name: Port Lincoln / ID:2063036\n",
      "City Name: Hokitika / ID:2206894\n",
      "City Name: Saint-Ambroise / ID:6137381\n",
      "City Name: Saint-Augustin / ID:6137462\n",
      "City Name: Ancud / ID:3899695\n",
      "City Name: Papara / ID:3395473\n",
      "City Name: Yellowknife / ID:6185377\n",
      "City Name: Ponta do Sol / ID:2264557\n",
      "City Name: Mahébourg / ID:934322\n",
      "City Name: Umm Kaddadah / ID:364933\n",
      "City Name: Beloha / ID:1067565\n",
      "City Name: Hithadhoo / ID:1282256\n",
      "City Name: Saint-Pierre / ID:935214\n",
      "City Name: Emba / ID:609924\n",
      "City Name: Yumen / ID:1528998\n",
      "City Name: Sistranda / ID:3139597\n",
      "City Name: Korla / ID:1529376\n",
      "City Name: Malatya Province / ID:304919\n",
      "City Name: Poum / ID:2138555\n",
      "City Name: Amahai / ID:1651591\n",
      "City Name: Baykit / ID:1510689\n",
      "City Name: Ojinaga / ID:3994469\n",
      "City Name: Sayyan / ID:70979\n",
      "City Name: Laiwu / ID:1804591\n",
      "City Name: Bredasdorp / ID:1015776\n",
      "City Name: Ucluelet / ID:6171633\n",
      "City Name: Ketchikan / ID:5554428\n",
      "City Name: Amos / ID:5884588\n",
      "Missing city...skipping | el balyana\n",
      "City Name: Tabuk / ID:1684803\n",
      "City Name: Upernavik / ID:3418910\n",
      "City Name: Tornio / ID:634093\n",
      "City Name: Iqaluit / ID:5983720\n",
      "City Name: Puerto Colombia / ID:3671497\n",
      "Missing city...skipping | koboldo\n",
      "City Name: Narsaq / ID:3421719\n",
      "City Name: Fukuechō / ID:1863997\n",
      "City Name: Swan Hill / ID:2147756\n",
      "City Name: Olafsvik / ID:3414079\n",
      "City Name: Iguape / ID:3461465\n",
      "City Name: Klaksvík / ID:2618795\n",
      "City Name: Mokhsogollokh / ID:2019867\n",
      "City Name: Isangel / ID:2136825\n",
      "City Name: Enfield / ID:6621335\n",
      "City Name: Turaif / ID:101312\n",
      "City Name: Beyla / ID:2423126\n",
      "City Name: Liwale / ID:155921\n",
      "City Name: Vondrozo / ID:1053507\n",
      "City Name: Muli / ID:1337617\n",
      "City Name: Waipawa / ID:2206874\n",
      "City Name: Andenes / ID:3163146\n",
      "City Name: Thompson / ID:6165406\n",
      "City Name: Port Hardy / ID:6111862\n",
      "City Name: Alofi / ID:4036284\n",
      "City Name: Muncar / ID:1634718\n",
      "City Name: Soanierana Ivongo / ID:1056386\n",
      "City Name: Muzhi / ID:1498161\n",
      "Missing city...skipping | vaitupu\n",
      "City Name: Bodden Town / ID:3580733\n",
      "City Name: Los Llanos de Aridane / ID:2514651\n",
      "City Name: Olinda / ID:3393536\n",
      "City Name: Luganville / ID:2136150\n",
      "City Name: Sitka / ID:5557293\n",
      "City Name: Ilulissat / ID:3423146\n",
      "City Name: Saint George / ID:5546220\n",
      "Missing city...skipping | attawapiskat\n",
      "City Name: Seidu / ID:2404036\n",
      "City Name: Kudahuvadhoo / ID:1337607\n",
      "City Name: Šturlić / ID:3189602\n",
      "City Name: Salinas / ID:5391295\n",
      "City Name: Carballo / ID:3126369\n",
      "City Name: Sheridan / ID:5838199\n",
      "City Name: ‘Ewa Beach / ID:5855051\n",
      "City Name: Nuevo Progreso / ID:3522526\n",
      "Missing city...skipping | artyk\n",
      "City Name: Coyhaique / ID:3894426\n",
      "City Name: Batemans Bay / ID:2176639\n",
      "City Name: Dengzhou / ID:1812988\n",
      "City Name: Tyukhtet / ID:1488774\n",
      "City Name: Hambantota / ID:1244926\n",
      "Missing city...skipping | yialos\n",
      "City Name: Kuching / ID:1735634\n",
      "City Name: Vila Franca do Campo / ID:3372472\n",
      "City Name: Adrar / ID:2381972\n",
      "City Name: Jumla / ID:1283285\n",
      "City Name: High Level / ID:5975004\n",
      "City Name: Okha / ID:2122614\n",
      "City Name: Boden / ID:606531\n",
      "City Name: Bongandanga / ID:218229\n"
     ]
    },
    {
     "name": "stdout",
     "output_type": "stream",
     "text": [
      "City Name: Bitung / ID:1648636\n",
      "City Name: Mana / ID:3381041\n",
      "City Name: Zyryanka / ID:2119283\n",
      "Missing city...skipping | tarudant\n",
      "City Name: Airai / ID:1651810\n",
      "City Name: Fayaoué / ID:2141305\n",
      "City Name: Escárcega / ID:3527795\n",
      "City Name: Maturin / ID:3778045\n",
      "City Name: Ballina / ID:2177069\n",
      "Missing city...skipping | amderma\n",
      "City Name: Yaqui / ID:3979975\n",
      "City Name: Bara / ID:2347758\n",
      "City Name: Saint Anthony / ID:5044290\n",
      "City Name: Kaeo / ID:2189343\n",
      "City Name: Najrān / ID:103630\n",
      "City Name: Lavrentiya / ID:4031637\n",
      "City Name: Salalah / ID:286621\n",
      "City Name: Kruisfontein / ID:986717\n",
      "City Name: Kirovskiy / ID:2022064\n",
      "Missing city...skipping | atka\n",
      "City Name: Karasjok / ID:779350\n",
      "City Name: Qinzhou / ID:1797551\n",
      "City Name: Teya / ID:1489656\n",
      "City Name: Tateyama / ID:1850523\n",
      "City Name: Faya / ID:110690\n",
      "City Name: Takahashi / ID:1851137\n",
      "City Name: Buala / ID:2109528\n",
      "City Name: Kirakira / ID:2178753\n",
      "City Name: Caravelas / ID:3466980\n",
      "City Name: Fortuna / ID:5563839\n",
      "City Name: Meulaboh / ID:1214488\n",
      "City Name: Kampene / ID:214575\n",
      "City Name: Lüderitz / ID:3355672\n",
      "City Name: San Vicente / ID:3428068\n",
      "City Name: Kon Tum / ID:1578500\n",
      "Missing city...skipping | stoyba\n",
      "City Name: Nyurba / ID:2018735\n",
      "City Name: Almaznyy / ID:582447\n",
      "City Name: Vila Velha / ID:3445026\n",
      "City Name: Marrakesh / ID:2542997\n",
      "City Name: Aktau / ID:610612\n",
      "City Name: Honningsvåg / ID:779554\n",
      "City Name: Aksarka / ID:1512019\n",
      "City Name: Khedbrahma / ID:1266806\n",
      "City Name: Mar del Plata / ID:3430863\n",
      "City Name: Berlevåg / ID:780687\n",
      "City Name: Nur-Sultan / ID:1526273\n",
      "City Name: Labuhan / ID:8079926\n",
      "City Name: Joshīmath / ID:1268814\n",
      "City Name: Ojuelos de Jalisco / ID:3994216\n",
      "City Name: Omsukchan / ID:2122493\n",
      "Missing city...skipping | labutta\n",
      "City Name: Tombouctou / ID:2449066\n",
      "City Name: Flinders / ID:6255012\n",
      "City Name: Bela / ID:1276574\n",
      "City Name: Kieta / ID:2094027\n",
      "City Name: Opalenica / ID:3090076\n",
      "Missing city...skipping | mrirt\n",
      "City Name: Alexandria / ID:361058\n",
      "City Name: Nísia Floresta / ID:3393922\n",
      "City Name: Evensk / ID:2125693\n",
      "City Name: Henties Bay / ID:3356832\n",
      "Missing city...skipping | qabis\n",
      "City Name: Kapit / ID:1737185\n",
      "City Name: Tambopata / ID:3927942\n",
      "City Name: Kaka / ID:161901\n",
      "City Name: Laguna / ID:5364271\n",
      "City Name: Arawa / ID:2100633\n",
      "City Name: Ende / ID:1644932\n",
      "Missing city...skipping | urfa\n",
      "City Name: Chai Badan / ID:1611424\n",
      "City Name: Sioux Lookout / ID:6148373\n",
      "City Name: Kalmunai / ID:1242110\n",
      "City Name: Touros / ID:3386213\n",
      "City Name: Xingtai / ID:1788927\n",
      "City Name: Bathsheba / ID:3374083\n",
      "City Name: Tizimín / ID:3515504\n",
      "City Name: Karratha / ID:6620339\n",
      "Missing city...skipping | lar gerd\n",
      "City Name: Houma / ID:4328010\n",
      "City Name: Terney / ID:2015352\n",
      "City Name: Kavieng / ID:2094342\n",
      "City Name: Saint Boswells / ID:2638848\n",
      "City Name: Atlantic City / ID:4500546\n",
      "City Name: Bonavista / ID:5905393\n",
      "City Name: Tocopilla / ID:3869716\n",
      "City Name: Hobyo / ID:57000\n",
      "City Name: Pandan / ID:1695546\n",
      "City Name: Khed / ID:1266814\n",
      "City Name: Kapoeta / ID:372884\n",
      "City Name: Tessalit / ID:2449893\n",
      "City Name: Didi Lilo / ID:614934\n",
      "City Name: Santa Rita / ID:3389321\n",
      "City Name: Smoky Lake / ID:6150293\n",
      "City Name: Petropavlovsk-Kamchatskiy / ID:2122104\n",
      "City Name: Warri / ID:2319133\n",
      "City Name: Bilma / ID:2446796\n",
      "City Name: Malinyi / ID:155016\n",
      "City Name: Egvekinot / ID:4031742\n",
      "City Name: Port Keats / ID:2063039\n",
      "City Name: Sibolga / ID:1213855\n",
      "City Name: São José da Coroa Grande / ID:3388456\n",
      "City Name: Saint Simons / ID:4220862\n",
      "City Name: Fengrun / ID:1811260\n",
      "City Name: Santa Lucía / ID:2511150\n",
      "City Name: Maniitsoq / ID:3421982\n",
      "City Name: Longyearbyen / ID:2729907\n",
      "City Name: Hegang / ID:2036986\n",
      "City Name: Hirara / ID:1862505\n",
      "City Name: Mosquera / ID:3674292\n",
      "City Name: Azare / ID:2348595\n",
      "City Name: Bontang / ID:1648186\n",
      "City Name: Nanortalik / ID:3421765\n",
      "City Name: Vanavara / ID:2013727\n",
      "City Name: Aksu / ID:1529660\n",
      "City Name: Comodoro Rivadavia / ID:3860443\n",
      "City Name: Darhan / ID:2031964\n",
      "City Name: San Jose / ID:5392171\n",
      "City Name: Torrijos / ID:2510249\n",
      "City Name: Monrovia / ID:2274895\n",
      "City Name: Sindor / ID:492860\n",
      "City Name: Saint-Philippe / ID:935215\n",
      "City Name: Ust-Tsilma / ID:477940\n",
      "City Name: Karlstad / ID:2701680\n",
      "City Name: Borisoglebskiy / ID:572520\n",
      "City Name: Bubaque / ID:2374583\n",
      "Missing city...skipping | saleaula\n",
      "City Name: Boyolangu / ID:1648082\n",
      "City Name: Rey Bouba / ID:2222439\n",
      "City Name: Merauke / ID:2082539\n",
      "City Name: Tuatapere / ID:2180815\n",
      "City Name: Luena / ID:3347719\n",
      "City Name: Vozhega / ID:471245\n",
      "City Name: Djibo / ID:2361177\n",
      "City Name: Trairi / ID:3386177\n",
      "City Name: Rio Grande / ID:3451138\n",
      "City Name: Banjar / ID:1650232\n",
      "City Name: Departamento de Maldonado / ID:3441890\n",
      "City Name: Antsohihy / ID:1068971\n",
      "City Name: Broome / ID:5110365\n",
      "City Name: Bucerías / ID:4016734\n",
      "City Name: Zaysan / ID:1517060\n",
      "Missing city...skipping | tsihombe\n",
      "City Name: Liyang / ID:1553356\n",
      "Missing city...skipping | andevoranto\n",
      "City Name: Chegdomyn / ID:2025579\n",
      "City Name: Bambanglipuro / ID:1650434\n",
      "City Name: Orneta / ID:763066\n",
      "City Name: Guerrero Negro / ID:4021858\n",
      "City Name: Lahat / ID:1638775\n",
      "Missing city...skipping | umzimvubu\n",
      "City Name: Evanston / ID:4891382\n",
      "City Name: Sørkjosen / ID:777572\n",
      "City Name: Lorengau / ID:2092164\n",
      "City Name: Hamilton / ID:4513583\n",
      "City Name: Vuktyl / ID:470905\n",
      "City Name: Hamza / ID:1513650\n",
      "City Name: Caucaia / ID:3402429\n",
      "Missing city...skipping | safwah\n",
      "City Name: Benidorm / ID:2521088\n",
      "City Name: Santa Maria / ID:3450083\n",
      "City Name: Lozova / ID:702760\n",
      "City Name: Strai / ID:3131178\n",
      "Missing city...skipping | skalistyy\n",
      "City Name: Mossamedes / ID:3347019\n",
      "City Name: Agadez / ID:2448083\n",
      "City Name: Asău / ID:686090\n",
      "City Name: Anadyr / ID:2127202\n",
      "City Name: Rio Negrinho / ID:3451124\n",
      "City Name: Ostrovnoy / ID:556268\n",
      "City Name: Yulara / ID:6355222\n",
      "City Name: Ust'-Kut / ID:2013923\n",
      "City Name: Kozhva / ID:543246\n",
      "City Name: Arman' / ID:2127060\n",
      "City Name: Pemangkat / ID:1631637\n",
      "City Name: Whitehorse / ID:6180550\n",
      "City Name: Bandiagara / ID:2460489\n",
      "City Name: Birin / ID:1283334\n",
      "City Name: Menongue / ID:3347353\n",
      "City Name: Dunedin / ID:2191562\n",
      "City Name: San Fernando del Valle de Catamarca / ID:3837702\n",
      "City Name: Pangnirtung / ID:6096551\n",
      "City Name: Kualakapuas / ID:1639304\n",
      "City Name: Pampa / ID:5527953\n",
      "City Name: Richards Bay / ID:962367\n",
      "City Name: Mâncio Lima / ID:3663516\n",
      "City Name: Gijang / ID:1842966\n",
      "City Name: Svetlaya / ID:2015852\n",
      "City Name: Linjiang / ID:2036069\n",
      "Missing city...skipping | mullaitivu\n",
      "Missing city...skipping | samusu\n",
      "City Name: Ko Samui / ID:1154689\n",
      "Missing city...skipping | dien bien\n",
      "City Name: Aksarayskiy / ID:583683\n",
      "City Name: Calama / ID:3897347\n",
      "City Name: Cururupu / ID:3401148\n",
      "City Name: Mainpuri / ID:1264292\n",
      "City Name: Bilibino / ID:2126682\n",
      "City Name: Saint-François / ID:2980080\n",
      "City Name: Caucayá / ID:3671437\n",
      "City Name: Wewak / ID:2083537\n",
      "City Name: Alcañiz / ID:3130606\n",
      "City Name: Pio IX / ID:3392020\n",
      "City Name: Peniche / ID:2264923\n",
      "City Name: Concordia / ID:3435261\n",
      "City Name: Moctezuma / ID:3995647\n",
      "City Name: Kulhudhuffushi / ID:1337613\n",
      "City Name: Isla Aguada / ID:3526766\n",
      "City Name: Câmara de Lobos / ID:2270380\n",
      "City Name: Tahoua / ID:2439376\n",
      "City Name: Bayan / ID:2038421\n",
      "City Name: Culaman / ID:1716589\n",
      "City Name: Agia Marina / ID:264220\n",
      "City Name: Upington / ID:945945\n",
      "City Name: Nguruka / ID:151567\n",
      "City Name: Mergen / ID:2035601\n",
      "City Name: Camabatela / ID:2242885\n",
      "Missing city...skipping | jiddah\n",
      "City Name: Kula / ID:305810\n",
      "City Name: Duvan / ID:564022\n",
      "Missing city...skipping | angra\n",
      "City Name: Aklavik / ID:5882953\n",
      "City Name: Leninskoye / ID:2020841\n",
      "City Name: Wana / ID:1162634\n",
      "City Name: Roald / ID:3141667\n",
      "City Name: Copiapó / ID:3893656\n",
      "City Name: Rakiv Lis / ID:695826\n",
      "City Name: Mount Gambier / ID:2156643\n",
      "City Name: Marystown / ID:6067472\n",
      "City Name: Xudat / ID:584715\n",
      "City Name: Samarai / ID:2132606\n",
      "City Name: Philadelphia / ID:4560349\n",
      "City Name: Geraldton / ID:2070998\n",
      "City Name: San Juan / ID:3837213\n",
      "City Name: Srednekolymsk / ID:2121025\n",
      "City Name: Cherskiy / ID:2126199\n",
      "City Name: Champerico / ID:3598787\n",
      "City Name: Pacatuba / ID:3393400\n",
      "Missing city...skipping | kazalinsk\n",
      "City Name: Sobolevo / ID:525426\n",
      "City Name: Taoudenni / ID:2450173\n",
      "City Name: Zhangjiakou / ID:2033196\n",
      "City Name: São Miguel do Araguaia / ID:3448455\n",
      "City Name: Wenshang / ID:1791428\n",
      "City Name: Hammerfest / ID:779683\n",
      "City Name: Manono / ID:209598\n"
     ]
    },
    {
     "name": "stdout",
     "output_type": "stream",
     "text": [
      "Missing city...skipping | kuche\n",
      "City Name: Tananger / ID:3134865\n",
      "City Name: Bogotol / ID:1509852\n",
      "City Name: Veseloyarsk / ID:1487164\n",
      "City Name: Bonfim / ID:3405215\n",
      "City Name: Neiafu / ID:4032420\n",
      "City Name: Nago / ID:1856068\n",
      "City Name: Turukhansk / ID:1488903\n",
      "City Name: Piove di Sacco / ID:6539928\n",
      "City Name: La Palma / ID:5364022\n",
      "Missing city...skipping | himora\n",
      "City Name: Necochea / ID:3430443\n",
      "City Name: Skjervøy / ID:777682\n",
      "City Name: Ca Mau / ID:1586443\n",
      "City Name: Zapolyarnyy / ID:464790\n",
      "City Name: Port Augusta / ID:2063056\n",
      "City Name: Laurel / ID:4360369\n",
      "City Name: Viranşehir / ID:298033\n",
      "City Name: Ondangwa / ID:3354247\n",
      "City Name: Bonthe / ID:2409914\n",
      "City Name: Illapel / ID:3887344\n",
      "City Name: Bassar / ID:2367568\n",
      "City Name: Kitimat / ID:5993072\n",
      "City Name: Nome / ID:5870133\n",
      "City Name: Rocha / ID:3440777\n",
      "City Name: Clyde River / ID:5924351\n",
      "City Name: Gimli / ID:5961417\n",
      "City Name: Coquimbo / ID:3893629\n",
      "City Name: Yarkovo / ID:1486369\n",
      "City Name: Macas / ID:3654541\n",
      "City Name: Saint-Joseph / ID:6690296\n",
      "City Name: Vilyuysk / ID:2013392\n",
      "City Name: Medina / ID:109223\n",
      "City Name: Manche / ID:2996268\n",
      "City Name: Norden / ID:2862118\n",
      "City Name: Neryungri / ID:2019309\n",
      "City Name: Dromolaxia / ID:146400\n",
      "City Name: Chui / ID:3443061\n",
      "City Name: Albanel / ID:5883074\n",
      "City Name: Cidreira / ID:3466165\n",
      "City Name: Kaseda-shirakame / ID:1859964\n",
      "City Name: Neuquén / ID:3843123\n",
      "City Name: Huilong / ID:1806840\n",
      "City Name: Soe / ID:1626703\n",
      "City Name: Ous / ID:1495812\n",
      "City Name: Kota Tinggi / ID:1732738\n",
      "City Name: Camacha / ID:2270385\n",
      "City Name: Nouadhibou / ID:2377457\n",
      "City Name: Tawang Town / ID:1254832\n",
      "City Name: Algeciras / ID:2522013\n",
      "City Name: San Cristobal / ID:3628473\n",
      "City Name: Nizhneangarsk / ID:2019199\n",
      "City Name: Chongqing / ID:1814906\n",
      "City Name: Berdigestyakh / ID:2026861\n",
      "City Name: Morehead / ID:4301317\n",
      "Missing city...skipping | bolshiye uki\n",
      "City Name: Abadan / ID:162099\n",
      "City Name: Pimentel / ID:3693584\n",
      "City Name: Sompeta / ID:1255816\n",
      "Missing city...skipping | maslovskiy\n",
      "City Name: Kavaratti / ID:1267390\n",
      "City Name: Novikovo / ID:487928\n",
      "City Name: Curaçá / ID:3401331\n",
      "City Name: Zabaykal'sk / ID:2012780\n",
      "City Name: Alamogordo / ID:5454627\n",
      "City Name: Wanning / ID:1791779\n",
      "City Name: Iralaya / ID:3608828\n",
      "City Name: San Ignacio / ID:3581194\n",
      "City Name: Port Macquarie / ID:2152659\n",
      "City Name: Goundam / ID:2456917\n",
      "City Name: Cosalá / ID:4012707\n",
      "City Name: Mangan / ID:1263776\n",
      "City Name: Waspán / ID:3615730\n",
      "City Name: Coolum Beach / ID:2170581\n",
      "City Name: Celestún / ID:3531368\n",
      "City Name: Otumba / ID:3522265\n",
      "City Name: Tarakan / ID:1624725\n",
      "City Name: Yangi Marg`ilon / ID:1513491\n",
      "City Name: Bennettsville / ID:4570634\n",
      "City Name: Mt. Pleasant / ID:4588165\n",
      "City Name: La Grande / ID:5735537\n",
      "City Name: South Shields / ID:2637329\n",
      "City Name: Chalchuapa / ID:3587086\n",
      "City Name: Thinadhoo / ID:1337610\n",
      "City Name: Baruun-Urt / ID:2032614\n",
      "City Name: Nortelândia / ID:3456248\n",
      "City Name: Juradó / ID:3680090\n",
      "City Name: Cortez / ID:5418104\n",
      "City Name: Trincomalee / ID:1226260\n",
      "City Name: Northam / ID:2641434\n",
      "City Name: Tegul'det / ID:1489822\n",
      "City Name: Tura / ID:1254046\n",
      "City Name: Roboré / ID:3444176\n",
      "City Name: Puerto Escondido / ID:3520994\n",
      "City Name: Leh / ID:1264976\n",
      "City Name: Smithers / ID:6149996\n",
      "City Name: Lagoa / ID:3372964\n",
      "City Name: Sinop Province / ID:739598\n",
      "City Name: Ahome / ID:4019098\n",
      "City Name: Bandarbeyla / ID:64814\n",
      "City Name: Quatre Cocos / ID:1106643\n",
      "City Name: Red Bluff / ID:5570065\n",
      "City Name: Moree / ID:2156927\n",
      "City Name: Krasnosel'kup / ID:1502073\n",
      "City Name: Road Town / ID:3577430\n",
      "City Name: Saint-Louis / ID:2246451\n"
     ]
    }
   ],
   "source": [
    "# Perform a weather check on each city using a series of successive API calls.\n",
    "# Include a print log of each city as it'sbeing processed (with the city number and city name).   \n",
    "\n",
    "\n",
    "#set up list to hold response info\n",
    "city_weather = []\n",
    "\n",
    "#loop through the list of cities and perform a request for weather data for each city\n",
    "for city in cities:\n",
    "    \n",
    "    #gets response for each city\n",
    "    response = requests.get(query_url + city).json()  \n",
    "    \n",
    "    #try/except statement to handle errors when city is not found on openweather site\n",
    "    try:\n",
    "        \n",
    "        #create dictionary\n",
    "        weather_dict = {\n",
    "            \"City\": response['name'],\n",
    "            \"Lat\": response['coord']['lat'],\n",
    "            \"Lng\": response['coord']['lon'],\n",
    "            \"Max Temp\": response['main']['temp_max'],\n",
    "            \"Humidity\": response['main']['humidity'],\n",
    "            \"Cloudiness\": response['clouds']['all'],\n",
    "            \"Wind Speed\": response['wind']['speed'],\n",
    "            \"Country\": response['sys']['country'],\n",
    "            \"Date\": response['dt']\n",
    "        }\n",
    "        city_weather.append(weather_dict)\n",
    "        \n",
    "        print(f\"City Name: {response['name']} / ID:{response['id']}\")\n",
    "        \n",
    "        #pprint(response)\n",
    "\n",
    "    except:\n",
    "        \n",
    "        print(\"Missing city...skipping | \" + city)\n",
    "\n",
    "#city_weather\n"
   ]
  },
  {
   "cell_type": "markdown",
   "metadata": {},
   "source": [
    "### Convert Raw Data to DataFrame\n",
    "* Export the city data into a .csv.\n",
    "* Display the DataFrame"
   ]
  },
  {
   "cell_type": "code",
   "execution_count": 23,
   "metadata": {},
   "outputs": [
    {
     "data": {
      "text/plain": [
       "City          549\n",
       "Lat           549\n",
       "Lng           549\n",
       "Max Temp      549\n",
       "Humidity      549\n",
       "Cloudiness    549\n",
       "Wind Speed    549\n",
       "Country       549\n",
       "Date          549\n",
       "dtype: int64"
      ]
     },
     "execution_count": 23,
     "metadata": {},
     "output_type": "execute_result"
    }
   ],
   "source": [
    "weather_df.count()"
   ]
  },
  {
   "cell_type": "code",
   "execution_count": 26,
   "metadata": {},
   "outputs": [
    {
     "data": {
      "text/html": [
       "<div>\n",
       "<style scoped>\n",
       "    .dataframe tbody tr th:only-of-type {\n",
       "        vertical-align: middle;\n",
       "    }\n",
       "\n",
       "    .dataframe tbody tr th {\n",
       "        vertical-align: top;\n",
       "    }\n",
       "\n",
       "    .dataframe thead th {\n",
       "        text-align: right;\n",
       "    }\n",
       "</style>\n",
       "<table border=\"1\" class=\"dataframe\">\n",
       "  <thead>\n",
       "    <tr style=\"text-align: right;\">\n",
       "      <th></th>\n",
       "      <th>City</th>\n",
       "      <th>Lat</th>\n",
       "      <th>Lng</th>\n",
       "      <th>Max Temp</th>\n",
       "      <th>Humidity</th>\n",
       "      <th>Cloudiness</th>\n",
       "      <th>Wind Speed</th>\n",
       "      <th>Country</th>\n",
       "      <th>Date</th>\n",
       "    </tr>\n",
       "  </thead>\n",
       "  <tbody>\n",
       "    <tr>\n",
       "      <th>0</th>\n",
       "      <td>Tommot</td>\n",
       "      <td>58.96</td>\n",
       "      <td>126.29</td>\n",
       "      <td>60.62</td>\n",
       "      <td>89</td>\n",
       "      <td>41</td>\n",
       "      <td>2.80</td>\n",
       "      <td>RU</td>\n",
       "      <td>1594404858</td>\n",
       "    </tr>\n",
       "    <tr>\n",
       "      <th>1</th>\n",
       "      <td>Ushuaia</td>\n",
       "      <td>-54.80</td>\n",
       "      <td>-68.30</td>\n",
       "      <td>32.00</td>\n",
       "      <td>89</td>\n",
       "      <td>84</td>\n",
       "      <td>5.08</td>\n",
       "      <td>AR</td>\n",
       "      <td>1594404732</td>\n",
       "    </tr>\n",
       "    <tr>\n",
       "      <th>2</th>\n",
       "      <td>Butaritari</td>\n",
       "      <td>3.07</td>\n",
       "      <td>172.79</td>\n",
       "      <td>82.35</td>\n",
       "      <td>78</td>\n",
       "      <td>98</td>\n",
       "      <td>9.69</td>\n",
       "      <td>KI</td>\n",
       "      <td>1594404859</td>\n",
       "    </tr>\n",
       "    <tr>\n",
       "      <th>3</th>\n",
       "      <td>Leningradskiy</td>\n",
       "      <td>69.38</td>\n",
       "      <td>178.42</td>\n",
       "      <td>43.56</td>\n",
       "      <td>85</td>\n",
       "      <td>22</td>\n",
       "      <td>9.40</td>\n",
       "      <td>RU</td>\n",
       "      <td>1594404859</td>\n",
       "    </tr>\n",
       "    <tr>\n",
       "      <th>4</th>\n",
       "      <td>Port Alfred</td>\n",
       "      <td>-33.59</td>\n",
       "      <td>26.89</td>\n",
       "      <td>61.00</td>\n",
       "      <td>92</td>\n",
       "      <td>65</td>\n",
       "      <td>1.01</td>\n",
       "      <td>ZA</td>\n",
       "      <td>1594404859</td>\n",
       "    </tr>\n",
       "    <tr>\n",
       "      <th>...</th>\n",
       "      <td>...</td>\n",
       "      <td>...</td>\n",
       "      <td>...</td>\n",
       "      <td>...</td>\n",
       "      <td>...</td>\n",
       "      <td>...</td>\n",
       "      <td>...</td>\n",
       "      <td>...</td>\n",
       "      <td>...</td>\n",
       "    </tr>\n",
       "    <tr>\n",
       "      <th>544</th>\n",
       "      <td>Red Bluff</td>\n",
       "      <td>40.18</td>\n",
       "      <td>-122.24</td>\n",
       "      <td>91.00</td>\n",
       "      <td>25</td>\n",
       "      <td>1</td>\n",
       "      <td>3.38</td>\n",
       "      <td>US</td>\n",
       "      <td>1594404935</td>\n",
       "    </tr>\n",
       "    <tr>\n",
       "      <th>545</th>\n",
       "      <td>Moree</td>\n",
       "      <td>-29.47</td>\n",
       "      <td>149.85</td>\n",
       "      <td>55.40</td>\n",
       "      <td>93</td>\n",
       "      <td>75</td>\n",
       "      <td>4.70</td>\n",
       "      <td>AU</td>\n",
       "      <td>1594404935</td>\n",
       "    </tr>\n",
       "    <tr>\n",
       "      <th>546</th>\n",
       "      <td>Krasnosel'kup</td>\n",
       "      <td>65.70</td>\n",
       "      <td>82.47</td>\n",
       "      <td>61.77</td>\n",
       "      <td>61</td>\n",
       "      <td>14</td>\n",
       "      <td>14.88</td>\n",
       "      <td>RU</td>\n",
       "      <td>1594404935</td>\n",
       "    </tr>\n",
       "    <tr>\n",
       "      <th>547</th>\n",
       "      <td>Road Town</td>\n",
       "      <td>18.42</td>\n",
       "      <td>-64.62</td>\n",
       "      <td>89.60</td>\n",
       "      <td>62</td>\n",
       "      <td>40</td>\n",
       "      <td>12.75</td>\n",
       "      <td>VG</td>\n",
       "      <td>1594404675</td>\n",
       "    </tr>\n",
       "    <tr>\n",
       "      <th>548</th>\n",
       "      <td>Saint-Louis</td>\n",
       "      <td>16.33</td>\n",
       "      <td>-15.00</td>\n",
       "      <td>102.20</td>\n",
       "      <td>33</td>\n",
       "      <td>13</td>\n",
       "      <td>2.24</td>\n",
       "      <td>SN</td>\n",
       "      <td>1594404858</td>\n",
       "    </tr>\n",
       "  </tbody>\n",
       "</table>\n",
       "<p>549 rows × 9 columns</p>\n",
       "</div>"
      ],
      "text/plain": [
       "              City    Lat     Lng  Max Temp  Humidity  Cloudiness  Wind Speed  \\\n",
       "0           Tommot  58.96  126.29     60.62        89          41        2.80   \n",
       "1          Ushuaia -54.80  -68.30     32.00        89          84        5.08   \n",
       "2       Butaritari   3.07  172.79     82.35        78          98        9.69   \n",
       "3    Leningradskiy  69.38  178.42     43.56        85          22        9.40   \n",
       "4      Port Alfred -33.59   26.89     61.00        92          65        1.01   \n",
       "..             ...    ...     ...       ...       ...         ...         ...   \n",
       "544      Red Bluff  40.18 -122.24     91.00        25           1        3.38   \n",
       "545          Moree -29.47  149.85     55.40        93          75        4.70   \n",
       "546  Krasnosel'kup  65.70   82.47     61.77        61          14       14.88   \n",
       "547      Road Town  18.42  -64.62     89.60        62          40       12.75   \n",
       "548    Saint-Louis  16.33  -15.00    102.20        33          13        2.24   \n",
       "\n",
       "    Country        Date  \n",
       "0        RU  1594404858  \n",
       "1        AR  1594404732  \n",
       "2        KI  1594404859  \n",
       "3        RU  1594404859  \n",
       "4        ZA  1594404859  \n",
       "..      ...         ...  \n",
       "544      US  1594404935  \n",
       "545      AU  1594404935  \n",
       "546      RU  1594404935  \n",
       "547      VG  1594404675  \n",
       "548      SN  1594404858  \n",
       "\n",
       "[549 rows x 9 columns]"
      ]
     },
     "execution_count": 26,
     "metadata": {},
     "output_type": "execute_result"
    }
   ],
   "source": [
    "weather_df = pd.DataFrame(city_weather)\n",
    "weather_df\n",
    "\n",
    "#export df to csv\n",
    "#weather_df.to_csv(r'Weather_DF.csv')\n"
   ]
  },
  {
   "cell_type": "markdown",
   "metadata": {},
   "source": [
    "## Inspect the data and remove the cities where the humidity > 100%.\n",
    "----\n",
    "Skip this step if there are no cities that have humidity > 100%. "
   ]
  },
  {
   "cell_type": "code",
   "execution_count": 25,
   "metadata": {},
   "outputs": [
    {
     "data": {
      "text/plain": [
       "0"
      ]
     },
     "execution_count": 25,
     "metadata": {},
     "output_type": "execute_result"
    }
   ],
   "source": [
    "#  Get the indices of cities that have humidity over 100%.\n",
    "humidity = weather_df.loc[(weather_df['Humidity']>100)]\n",
    "len(humidity)\n"
   ]
  },
  {
   "cell_type": "code",
   "execution_count": 18,
   "metadata": {},
   "outputs": [],
   "source": [
    "# Make a new DataFrame equal to the city data to drop all humidity outliers by index.\n",
    "# Passing \"inplace=False\" will make a copy of the city_data DataFrame, which we call \"clean_city_data\".\n",
    "\n",
    "#SKIPPING \n",
    "\n"
   ]
  },
  {
   "cell_type": "code",
   "execution_count": 19,
   "metadata": {},
   "outputs": [],
   "source": [
    "# Extract relevant fields from the data frame\n",
    "# Export the City_Data into a csv\n",
    "\n",
    "#SKIPPING "
   ]
  },
  {
   "cell_type": "markdown",
   "metadata": {},
   "source": [
    "## Plotting the Data\n",
    "* Use proper labeling of the plots using plot titles (including date of analysis) and axes labels.\n",
    "* Save the plotted figures as .pngs."
   ]
  },
  {
   "cell_type": "markdown",
   "metadata": {},
   "source": [
    "## Latitude vs. Temperature Plot"
   ]
  },
  {
   "cell_type": "code",
   "execution_count": 31,
   "metadata": {
    "scrolled": true
   },
   "outputs": [
    {
     "data": {
      "image/png": "[encoded data removed]",
      "text/plain": [
       "<Figure size 432x288 with 1 Axes>"
      ]
     },
     "metadata": {
      "needs_background": "light"
     },
     "output_type": "display_data"
    }
   ],
   "source": [
    "x_axis = weather_df['Lat']\n",
    "y_axis = weather_df['Max Temp']\n",
    "\n",
    "plt.xlabel(\"Latitude\")\n",
    "plt.ylabel(\"Max Temp (F)\")\n",
    "plt.title(\"City Latitude vs Max Temp\")\n",
    "plt.scatter(x_axis, y_axis)\n",
    "plt.show()"
   ]
  },
  {
   "cell_type": "markdown",
   "metadata": {},
   "source": [
    "## Latitude vs. Humidity Plot"
   ]
  },
  {
   "cell_type": "code",
   "execution_count": 34,
   "metadata": {},
   "outputs": [
    {
     "data": {
      "image/png": "[encoded data removed]",
      "text/plain": [
       "<Figure size 432x288 with 1 Axes>"
      ]
     },
     "metadata": {
      "needs_background": "light"
     },
     "output_type": "display_data"
    }
   ],
   "source": [
    "x_axis2 = weather_df['Lat']\n",
    "y_axis2 = weather_df['Humidity']\n",
    "\n",
    "plt.xlabel(\"Latitude\")\n",
    "plt.ylabel(\"Humidity(%)\")\n",
    "plt.title(\"City Latitude vs Humidity(%)\")\n",
    "plt.scatter(x_axis2, y_axis2)\n",
    "plt.show()\n"
   ]
  },
  {
   "cell_type": "markdown",
   "metadata": {},
   "source": [
    "## Latitude vs. Cloudiness Plot"
   ]
  },
  {
   "cell_type": "code",
   "execution_count": 35,
   "metadata": {},
   "outputs": [
    {
     "data": {
      "image/png": "[encoded data removed]",
      "text/plain": [
       "<Figure size 432x288 with 1 Axes>"
      ]
     },
     "metadata": {
      "needs_background": "light"
     },
     "output_type": "display_data"
    }
   ],
   "source": [
    "x_axis3 = weather_df['Lat']\n",
    "y_axis3 = weather_df['Cloudiness']\n",
    "\n",
    "plt.xlabel(\"Latitude\")\n",
    "plt.ylabel(\"Cloudiness\")\n",
    "plt.title(\"City Latitude vs Cloudiness\")\n",
    "plt.scatter(x_axis3, y_axis3)\n",
    "plt.show()"
   ]
  },
  {
   "cell_type": "markdown",
   "metadata": {},
   "source": [
    "## Latitude vs. Wind Speed Plot"
   ]
  },
  {
   "cell_type": "code",
   "execution_count": 36,
   "metadata": {},
   "outputs": [
    {
     "data": {
      "image/png": "[encoded data removed]",
      "text/plain": [
       "<Figure size 432x288 with 1 Axes>"
      ]
     },
     "metadata": {
      "needs_background": "light"
     },
     "output_type": "display_data"
    }
   ],
   "source": [
    "x_axis4 = weather_df['Lat']\n",
    "y_axis4 = weather_df['Wind Speed']\n",
    "\n",
    "plt.xlabel(\"Latitude\")\n",
    "plt.ylabel(\"Wind Speed\")\n",
    "plt.title(\"City Latitude vs Wind Speed\")\n",
    "plt.scatter(x_axis4, y_axis4)\n",
    "plt.show()"
   ]
  },
  {
   "cell_type": "markdown",
   "metadata": {},
   "source": [
    "## Linear Regression"
   ]
  },
  {
   "cell_type": "code",
   "execution_count": 88,
   "metadata": {},
   "outputs": [],
   "source": [
    "# OPTIONAL: Create a function to create Linear Regression plots\n",
    "\n",
    "def splot(xaxis, yaxis):\n",
    "    #calculate linear regression and plot the line\n",
    "    (slope, intercept, rvalue, pvalue, stderr) = st.linregress(xaxis, yaxis)\n",
    "    regress_values = xaxis * slope + intercept\n",
    "    line_eq = \"y = \" + str(round(slope,2)) + \"x + \" + str(round(intercept,2))\n",
    "    plt.scatter(xaxis, yaxis)\n",
    "    plt.plot(xaxis,regress_values,\"r-\")\n",
    "    plt.annotate(line_eq,(70,70),fontsize=15,color=\"red\")\n",
    "    \n",
    "    print(f\"The r-squared is: {rvalue**2}\")\n",
    "    \n",
    "    plt.show()\n",
    "    \n",
    "    #xlabel = weather_df.columns[xaxis]\n",
    "\n",
    "    #plt.xlabel(\"xaxis\")\n",
    "    #plt.ylabel(\"Average Tumor Volume (mm3)\")\n",
    "    #plt.title(\"Avg Weight vs Avg Tumor Volume per Mouse (Capomulin) \")"
   ]
  },
  {
   "cell_type": "code",
   "execution_count": 94,
   "metadata": {},
   "outputs": [],
   "source": [
    "# Create Northern and Southern Hemisphere DataFrames\n",
    "nhem_df = weather_df.loc[(weather_df['Lat']>0)]\n",
    "shem_df = weather_df.loc[(weather_df['Lat']<0)]\n"
   ]
  },
  {
   "cell_type": "markdown",
   "metadata": {},
   "source": [
    "####  Northern Hemisphere - Max Temp vs. Latitude Linear Regression"
   ]
  },
  {
   "cell_type": "code",
   "execution_count": 95,
   "metadata": {},
   "outputs": [
    {
     "name": "stdout",
     "output_type": "stream",
     "text": [
      "The r-squared is: 0.5345381190354697\n"
     ]
    },
    {
     "data": {
      "image/png": "[encoded data removed]",
      "text/plain": [
       "<Figure size 432x288 with 1 Axes>"
      ]
     },
     "metadata": {
      "needs_background": "light"
     },
     "output_type": "display_data"
    }
   ],
   "source": [
    "#create the charts based on the norther df or southern df\n",
    "\n",
    "splot(nhem_df['Max Temp'],nhem_df['Lat'])\n"
   ]
  },
  {
   "cell_type": "markdown",
   "metadata": {},
   "source": [
    "####  Southern Hemisphere - Max Temp vs. Latitude Linear Regression"
   ]
  },
  {
   "cell_type": "code",
   "execution_count": 96,
   "metadata": {},
   "outputs": [
    {
     "name": "stdout",
     "output_type": "stream",
     "text": [
      "The r-squared is: 0.7636240925073726\n"
     ]
    },
    {
     "data": {
      "image/png": "[encoded data removed]",
      "text/plain": [
       "<Figure size 432x288 with 1 Axes>"
      ]
     },
     "metadata": {
      "needs_background": "light"
     },
     "output_type": "display_data"
    }
   ],
   "source": [
    "splot(shem_df['Max Temp'],shem_df['Lat'])"
   ]
  },
  {
   "cell_type": "markdown",
   "metadata": {},
   "source": [
    "####  Northern Hemisphere - Humidity (%) vs. Latitude Linear Regression"
   ]
  },
  {
   "cell_type": "code",
   "execution_count": 92,
   "metadata": {},
   "outputs": [
    {
     "name": "stdout",
     "output_type": "stream",
     "text": [
      "The r-squared is: 0.016003853233152388\n"
     ]
    },
    {
     "data": {
      "image/png": "[encoded data removed]",
      "text/plain": [
       "<Figure size 432x288 with 1 Axes>"
      ]
     },
     "metadata": {
      "needs_background": "light"
     },
     "output_type": "display_data"
    }
   ],
   "source": [
    "splot(nhem_df['Humidity'],nhem_df['Lat'])"
   ]
  },
  {
   "cell_type": "markdown",
   "metadata": {},
   "source": [
    "####  Southern Hemisphere - Humidity (%) vs. Latitude Linear Regression"
   ]
  },
  {
   "cell_type": "code",
   "execution_count": 93,
   "metadata": {},
   "outputs": [
    {
     "name": "stdout",
     "output_type": "stream",
     "text": [
      "The r-squared is: 0.00026031835941168894\n"
     ]
    },
    {
     "data": {
      "image/png": "[encoded data removed]",
      "text/plain": [
       "<Figure size 432x288 with 1 Axes>"
      ]
     },
     "metadata": {
      "needs_background": "light"
     },
     "output_type": "display_data"
    }
   ],
   "source": [
    "splot(shem_df['Humidity'],shem_df['Lat'])"
   ]
  },
  {
   "cell_type": "markdown",
   "metadata": {},
   "source": [
    "####  Northern Hemisphere - Cloudiness (%) vs. Latitude Linear Regression"
   ]
  },
  {
   "cell_type": "code",
   "execution_count": 97,
   "metadata": {},
   "outputs": [
    {
     "name": "stdout",
     "output_type": "stream",
     "text": [
      "The r-squared is: 0.0016509441166378872\n"
     ]
    },
    {
     "data": {
      "image/png": "[encoded data removed]",
      "text/plain": [
       "<Figure size 432x288 with 1 Axes>"
      ]
     },
     "metadata": {
      "needs_background": "light"
     },
     "output_type": "display_data"
    }
   ],
   "source": [
    "splot(nhem_df['Cloudiness'],nhem_df['Lat'])"
   ]
  },
  {
   "cell_type": "markdown",
   "metadata": {},
   "source": [
    "####  Southern Hemisphere - Cloudiness (%) vs. Latitude Linear Regression"
   ]
  },
  {
   "cell_type": "code",
   "execution_count": 98,
   "metadata": {},
   "outputs": [
    {
     "name": "stdout",
     "output_type": "stream",
     "text": [
      "The r-squared is: 0.00516749595630675\n"
     ]
    },
    {
     "data": {
      "image/png": "[encoded data removed]",
      "text/plain": [
       "<Figure size 432x288 with 1 Axes>"
      ]
     },
     "metadata": {
      "needs_background": "light"
     },
     "output_type": "display_data"
    }
   ],
   "source": [
    "splot(shem_df['Cloudiness'],shem_df['Lat'])"
   ]
  },
  {
   "cell_type": "markdown",
   "metadata": {},
   "source": [
    "####  Northern Hemisphere - Wind Speed (mph) vs. Latitude Linear Regression"
   ]
  },
  {
   "cell_type": "code",
   "execution_count": 99,
   "metadata": {},
   "outputs": [
    {
     "name": "stdout",
     "output_type": "stream",
     "text": [
      "The r-squared is: 0.0005345704670312589\n"
     ]
    },
    {
     "data": {
      "image/png": "[encoded data removed]",
      "text/plain": [
       "<Figure size 432x288 with 1 Axes>"
      ]
     },
     "metadata": {
      "needs_background": "light"
     },
     "output_type": "display_data"
    }
   ],
   "source": [
    "splot(nhem_df['Wind Speed'],nhem_df['Lat'])"
   ]
  },
  {
   "cell_type": "markdown",
   "metadata": {},
   "source": [
    "####  Southern Hemisphere - Wind Speed (mph) vs. Latitude Linear Regression"
   ]
  },
  {
   "cell_type": "code",
   "execution_count": 100,
   "metadata": {},
   "outputs": [
    {
     "name": "stdout",
     "output_type": "stream",
     "text": [
      "The r-squared is: 0.001417641623398398\n"
     ]
    },
    {
     "data": {
      "image/png": "[encoded data removed]",
      "text/plain": [
       "<Figure size 432x288 with 1 Axes>"
      ]
     },
     "metadata": {
      "needs_background": "light"
     },
     "output_type": "display_data"
    }
   ],
   "source": [
    "splot(shem_df['Wind Speed'],shem_df['Lat'])"
   ]
  },
  {
   "cell_type": "code",
   "execution_count": null,
   "metadata": {},
   "outputs": [],
   "source": []
  }
 ],
 "metadata": {
  "anaconda-cloud": {},
  "kernel_info": {
   "name": "python3"
  },
  "kernelspec": {
   "display_name": "Python 3",
   "language": "python",
   "name": "python3"
  },
  "language_info": {
   "codemirror_mode": {
    "name": "ipython",
    "version": 3
   },
   "file_extension": ".py",
   "mimetype": "text/x-python",
   "name": "python",
   "nbconvert_exporter": "python",
   "pygments_lexer": "ipython3",
   "version": "3.7.6"
  },
  "latex_envs": {
   "LaTeX_envs_menu_present": true,
   "autoclose": false,
   "autocomplete": true,
   "bibliofile": "biblio.bib",
   "cite_by": "apalike",
   "current_citInitial": 1,
   "eqLabelWithNumbers": true,
   "eqNumInitial": 1,
   "hotkeys": {
    "equation": "Ctrl-E",
    "itemize": "Ctrl-I"
   },
   "labels_anchors": false,
   "latex_user_defs": false,
   "report_style_numbering": false,
   "user_envs_cfg": false
  },
  "nteract": {
   "version": "0.12.3"
  }
 },
 "nbformat": 4,
 "nbformat_minor": 2
}
