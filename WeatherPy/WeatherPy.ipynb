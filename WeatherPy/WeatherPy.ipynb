{
 "cells": [
  {
   "cell_type": "markdown",
   "metadata": {},
   "source": [
    "# WeatherPy\n",
    "----\n",
    "\n",
    "#### Note\n",
    "* Instructions have been included for each segment. You do not have to follow them exactly, but they are included to help you think through the steps.\n",
    "\n",
    "3 Observations:\n",
    "1. There is a strong correlation between latitude and max temperatures. The further you are from the equator, the higher the max temperature tends to be. \n",
    "2. There is no correlation between cloudiness and latitude.\n",
    "3. There is no correlation between wind speeds and latitude. However, most locations have wind speeds under 15mph on a regular basis.\n"
   ]
  },
  {
   "cell_type": "code",
   "execution_count": 3,
   "metadata": {
    "scrolled": true
   },
   "outputs": [],
   "source": [
    "# Dependencies and Setup\n",
    "import matplotlib.pyplot as plt\n",
    "import pandas as pd\n",
    "import numpy as np\n",
    "import requests\n",
    "import time\n",
    "from scipy.stats import linregress\n",
    "import scipy.stats as st\n",
    "import json\n",
    "from pprint import pprint\n",
    "\n",
    "# Import API key\n",
    "from api_keys import weather_api_key\n",
    "\n",
    "# Incorporated citipy to determine city based on latitude and longitude\n",
    "from citipy import citipy\n",
    "\n",
    "# Output File (CSV)\n",
    "output_data_file = \"output_data/cities.csv\"\n",
    "\n",
    "# Range of latitudes and longitudes\n",
    "lat_range = (-90, 90)\n",
    "lng_range = (-180, 180)"
   ]
  },
  {
   "cell_type": "markdown",
   "metadata": {},
   "source": [
    "## Generate Cities List"
   ]
  },
  {
   "cell_type": "code",
   "execution_count": 4,
   "metadata": {},
   "outputs": [
    {
     "data": {
      "text/plain": [
       "634"
      ]
     },
     "execution_count": 4,
     "metadata": {},
     "output_type": "execute_result"
    }
   ],
   "source": [
    "# List for holding lat_lngs and cities\n",
    "lat_lngs = []\n",
    "cities = []\n",
    "\n",
    "# Create a set of random lat and lng combinations\n",
    "lats = np.random.uniform(lat_range[0], lat_range[1], size=1500)\n",
    "lngs = np.random.uniform(lng_range[0], lng_range[1], size=1500)\n",
    "lat_lngs = zip(lats, lngs)\n",
    "\n",
    "# Identify nearest city for each lat, lng combination\n",
    "for lat_lng in lat_lngs:\n",
    "    city = citipy.nearest_city(lat_lng[0], lat_lng[1]).city_name\n",
    "    \n",
    "    # If the city is unique, then add it to a our cities list\n",
    "    if city not in cities:\n",
    "        cities.append(city)\n",
    "\n",
    "# Print the city count to confirm sufficient count\n",
    "len(cities)\n"
   ]
  },
  {
   "cell_type": "markdown",
   "metadata": {},
   "source": [
    "### Perform API Calls\n",
    "* Perform a weather check on each city using a series of successive API calls.\n",
    "* Include a print log of each city as it'sbeing processed (with the city number and city name).\n"
   ]
  },
  {
   "cell_type": "code",
   "execution_count": 5,
   "metadata": {},
   "outputs": [
    {
     "name": "stdout",
     "output_type": "stream",
     "text": [
      "{'base': 'stations',\n",
      " 'clouds': {'all': 75},\n",
      " 'cod': 200,\n",
      " 'coord': {'lat': 78.22, 'lon': 15.64},\n",
      " 'dt': 1594671505,\n",
      " 'id': 2729907,\n",
      " 'main': {'feels_like': 42.89,\n",
      "          'humidity': 76,\n",
      "          'pressure': 1020,\n",
      "          'temp': 48.2,\n",
      "          'temp_max': 48.2,\n",
      "          'temp_min': 48.2},\n",
      " 'name': 'Longyearbyen',\n",
      " 'sys': {'country': 'SJ', 'id': 1663, 'sunrise': 0, 'sunset': 0, 'type': 1},\n",
      " 'timezone': 7200,\n",
      " 'visibility': 10000,\n",
      " 'weather': [{'description': 'broken clouds',\n",
      "              'icon': '04n',\n",
      "              'id': 803,\n",
      "              'main': 'Clouds'}],\n",
      " 'wind': {'deg': 230, 'speed': 5.82}}\n"
     ]
    }
   ],
   "source": [
    "#save config info\n",
    "url = \"http://api.openweathermap.org/data/2.5/weather?units=Imperial&\"\n",
    "\n",
    "# Build query URL\n",
    "query_url = url + \"appid=\" + weather_api_key + \"&q=\"\n",
    "\n",
    "#get weather data and convert reponse to json\n",
    "weather_response = requests.get(query_url + city)\n",
    "weather_json = weather_response.json()\n",
    "\n",
    "pprint(weather_json)\n",
    "\n"
   ]
  },
  {
   "cell_type": "code",
   "execution_count": 6,
   "metadata": {},
   "outputs": [
    {
     "data": {
      "text/plain": [
       "<Response [200]>"
      ]
     },
     "execution_count": 6,
     "metadata": {},
     "output_type": "execute_result"
    }
   ],
   "source": [
    "weather_response"
   ]
  },
  {
   "cell_type": "code",
   "execution_count": 7,
   "metadata": {},
   "outputs": [
    {
     "name": "stdout",
     "output_type": "stream",
     "text": [
      "1 City Name: Bredasdorp / ID:1015776\n",
      "2 City Name: Mataura / ID:6201424\n",
      "3 City Name: Kangaatsiaq / ID:3422683\n",
      "Missing city...skipping | cam pha\n",
      "4 City Name: Albany / ID:5106841\n",
      "5 City Name: Mahébourg / ID:934322\n",
      "6 City Name: Hermanus / ID:3366880\n",
      "7 City Name: Chui / ID:3443061\n",
      "8 City Name: Harda / ID:1270375\n",
      "9 City Name: Cape Town / ID:3369157\n",
      "10 City Name: Berkakit / ID:2026777\n",
      "11 City Name: Wonosobo / ID:1621395\n",
      "12 City Name: Usakos / ID:3352461\n",
      "13 City Name: Port-de-Bouc / ID:6447156\n",
      "14 City Name: Saint-Philippe / ID:935215\n",
      "15 City Name: Lüderitz / ID:3355672\n",
      "16 City Name: Kiama / ID:2161515\n",
      "17 City Name: Atuona / ID:4020109\n",
      "18 City Name: Hobart / ID:2163355\n",
      "19 City Name: Lakselv / ID:779082\n",
      "20 City Name: Florø / ID:3156980\n",
      "21 City Name: Paamiut / ID:3421193\n",
      "22 City Name: Butaritari / ID:2110227\n",
      "23 City Name: Rikitea / ID:4030556\n",
      "24 City Name: Beira / ID:1052373\n",
      "Missing city...skipping | attawapiskat\n",
      "25 City Name: Yellowknife / ID:6185377\n",
      "26 City Name: Bandarbeyla / ID:64814\n",
      "Missing city...skipping | taolanaro\n",
      "27 City Name: Atherton / ID:2656847\n",
      "Missing city...skipping | warqla\n",
      "28 City Name: Touros / ID:3386213\n",
      "29 City Name: Geraldton / ID:2070998\n",
      "30 City Name: Walvis Bay / ID:3359638\n",
      "31 City Name: Kavieng / ID:2094342\n",
      "32 City Name: Kavaratti / ID:1267390\n",
      "33 City Name: Bud / ID:4255151\n",
      "34 City Name: Sola / ID:2134814\n",
      "35 City Name: Toropets / ID:482042\n",
      "36 City Name: Nikolskoye / ID:546105\n",
      "37 City Name: Venice / ID:4176380\n",
      "38 City Name: Busselton / ID:2075265\n",
      "39 City Name: Port Shepstone / ID:964406\n",
      "40 City Name: Korla / ID:1529376\n",
      "41 City Name: Barrow / ID:5880054\n",
      "42 City Name: Tiksi / ID:2015306\n",
      "43 City Name: College / ID:5859699\n",
      "44 City Name: Zhaotong / ID:1784841\n",
      "45 City Name: Bethel / ID:5282297\n",
      "46 City Name: Ushuaia / ID:3833367\n",
      "47 City Name: Lompoc / ID:5367788\n",
      "48 City Name: Aklavik / ID:5882953\n",
      "49 City Name: La Palma / ID:5364022\n",
      "Missing city...skipping | illoqqortoormiut\n",
      "50 City Name: Vanimo / ID:2084442\n",
      "51 City Name: Road Town / ID:3577430\n",
      "52 City Name: Leningradskiy / ID:2123814\n",
      "53 City Name: Marabu / ID:1738050\n",
      "54 City Name: Homer / ID:5864145\n",
      "55 City Name: Ribeira Grande / ID:3372707\n",
      "56 City Name: Port Augusta / ID:2063056\n",
      "57 City Name: Fairbanks / ID:5861897\n",
      "58 City Name: Tarko-Sale / ID:1490085\n",
      "Missing city...skipping | barentsburg\n",
      "59 City Name: Puerto Ayora / ID:3652764\n",
      "60 City Name: Cidreira / ID:3466165\n",
      "Missing city...skipping | kazalinsk\n",
      "61 City Name: Ilulissat / ID:3423146\n",
      "62 City Name: Sur / ID:286245\n",
      "63 City Name: Upernavik / ID:3418910\n",
      "64 City Name: Codrington / ID:2171099\n",
      "65 City Name: Saskylakh / ID:2017155\n",
      "66 City Name: Karakol / ID:1528121\n",
      "67 City Name: Celestún / ID:3531368\n",
      "Missing city...skipping | ambodifototra\n",
      "68 City Name: Agadez / ID:2448083\n",
      "69 City Name: Usinsk / ID:863061\n",
      "70 City Name: Lithakia / ID:258241\n",
      "71 City Name: Chokurdakh / ID:2126123\n",
      "72 City Name: San Patricio / ID:3985168\n",
      "73 City Name: Punta Arenas / ID:3874787\n",
      "74 City Name: Chernyshevskiy / ID:2025456\n",
      "75 City Name: Quatre Cocos / ID:1106643\n",
      "76 City Name: Yelizovo / ID:2119538\n",
      "77 City Name: Beloha / ID:1067565\n",
      "78 City Name: Tuy Hoa / ID:1563281\n",
      "79 City Name: Calvinia / ID:3369174\n",
      "80 City Name: Kattivākkam / ID:1267433\n",
      "Missing city...skipping | belushya guba\n",
      "81 City Name: Husavik / ID:2629833\n",
      "82 City Name: Bluff / ID:2206939\n",
      "83 City Name: Dikson / ID:1507390\n",
      "84 City Name: Tuktoyaktuk / ID:6170031\n",
      "85 City Name: Iqaluit / ID:5983720\n",
      "86 City Name: Ponta do Sol / ID:2264557\n",
      "87 City Name: Jackson / ID:5733351\n",
      "88 City Name: Dunedin / ID:2191562\n",
      "89 City Name: Longyearbyen / ID:2729907\n",
      "90 City Name: Carnarvon / ID:2074865\n",
      "91 City Name: Kapaa / ID:5848280\n",
      "92 City Name: Mount Gambier / ID:2156643\n",
      "93 City Name: Tasiilaq / ID:3424607\n",
      "94 City Name: Karratha / ID:6620339\n",
      "95 City Name: Tigil' / ID:2120612\n",
      "96 City Name: Eskil / ID:315218\n",
      "97 City Name: Saint George / ID:5546220\n",
      "98 City Name: Ruteng / ID:1629380\n",
      "99 City Name: Lagos / ID:2332453\n",
      "100 City Name: Chaohu / ID:1815427\n",
      "101 City Name: Hithadhoo / ID:1282256\n",
      "102 City Name: Vardø / ID:777019\n",
      "103 City Name: East London / ID:1006984\n",
      "104 City Name: São João da Barra / ID:3448903\n",
      "Missing city...skipping | amderma\n",
      "105 City Name: Port Alfred / ID:964432\n",
      "106 City Name: Voi / ID:178522\n",
      "107 City Name: Sitka / ID:5557293\n",
      "108 City Name: Khatanga / ID:2022572\n",
      "109 City Name: Port Lincoln / ID:2063036\n",
      "110 City Name: Bathsheba / ID:3374083\n",
      "111 City Name: Talnakh / ID:1490256\n",
      "112 City Name: Lorengau / ID:2092164\n",
      "113 City Name: Hilo / ID:5855927\n",
      "114 City Name: Mehamn / ID:778707\n",
      "115 City Name: Banjarmasin / ID:1650213\n",
      "116 City Name: Vaini / ID:4032243\n",
      "117 City Name: Tazovsky / ID:1489853\n",
      "118 City Name: Coyhaique / ID:3894426\n",
      "119 City Name: Bhag / ID:1182872\n",
      "120 City Name: Lander / ID:5830007\n",
      "121 City Name: Palora / ID:3653523\n",
      "122 City Name: Lázaro Cárdenas / ID:4026082\n",
      "123 City Name: Arraial do Cabo / ID:3471451\n",
      "124 City Name: Rincon / ID:4218882\n",
      "125 City Name: Mount Isa / ID:2065594\n",
      "126 City Name: Houma / ID:4328010\n",
      "127 City Name: Nantucket / ID:4944903\n",
      "128 City Name: Meulaboh / ID:1214488\n",
      "129 City Name: Waingapu / ID:1622318\n",
      "130 City Name: Laas / ID:3175096\n",
      "131 City Name: Cabo San Lucas / ID:3985710\n",
      "132 City Name: Bengkulu / ID:1649150\n",
      "133 City Name: Ürümqi / ID:1529102\n",
      "Missing city...skipping | mys shmidta\n",
      "134 City Name: Iquique / ID:3887127\n",
      "135 City Name: Saint-Augustin / ID:6137462\n",
      "136 City Name: Hirara / ID:1862505\n",
      "137 City Name: Uyuni / ID:3901903\n",
      "138 City Name: Norman Wells / ID:6089245\n",
      "139 City Name: Kieta / ID:2094027\n",
      "140 City Name: Itoman / ID:1861280\n",
      "141 City Name: Rocha / ID:3440777\n",
      "142 City Name: Pevek / ID:2122090\n",
      "143 City Name: Provideniya / ID:4031574\n",
      "144 City Name: Polson / ID:5671996\n",
      "145 City Name: Lebu / ID:3883457\n",
      "146 City Name: Bontang / ID:1648186\n",
      "147 City Name: Peterhead / ID:2640351\n",
      "148 City Name: Baker City / ID:5712169\n",
      "149 City Name: Cherskiy / ID:2126199\n",
      "150 City Name: Katsuura / ID:2112309\n",
      "151 City Name: Marzuq / ID:72181\n",
      "152 City Name: Arman' / ID:2127060\n",
      "153 City Name: Tunceli / ID:298846\n",
      "154 City Name: Lata / ID:2738381\n",
      "155 City Name: Eureka / ID:5563397\n",
      "156 City Name: Sorong / ID:1626542\n",
      "157 City Name: Ulety / ID:2014369\n",
      "158 City Name: Lamar / ID:4705086\n",
      "159 City Name: Jamestown / ID:5122534\n",
      "160 City Name: Muros / ID:3115824\n",
      "161 City Name: Mar del Plata / ID:3430863\n",
      "162 City Name: Deputatsky / ID:2028164\n",
      "163 City Name: Bloomfield / ID:5095779\n",
      "164 City Name: Dembī Dolo / ID:339448\n",
      "165 City Name: Beringovskiy / ID:2126710\n",
      "166 City Name: Anadyr / ID:2127202\n",
      "167 City Name: Omsukchan / ID:2122493\n",
      "168 City Name: Takoradze / ID:2294915\n",
      "169 City Name: Phan Thiet / ID:1571058\n",
      "170 City Name: Araouane / ID:2460954\n",
      "171 City Name: Bogorodskoye / ID:575521\n",
      "172 City Name: Kruisfontein / ID:986717\n",
      "173 City Name: Emerald / ID:2167426\n",
      "174 City Name: Ballina / ID:2177069\n",
      "175 City Name: Plátanos / ID:255030\n",
      "176 City Name: Castro / ID:3466704\n",
      "177 City Name: Mujiayingzi / ID:2035707\n",
      "Missing city...skipping | samusu\n",
      "178 City Name: Tilichiki / ID:2120591\n",
      "179 City Name: Nanortalik / ID:3421765\n",
      "180 City Name: Taoudenni / ID:2450173\n",
      "181 City Name: Srednekolymsk / ID:2121025\n",
      "182 City Name: Eilat / ID:295277\n",
      "183 City Name: Mulegé / ID:3995236\n",
      "184 City Name: Yanaul / ID:469178\n",
      "185 City Name: Kizhinga / ID:2022003\n",
      "186 City Name: Mersing / ID:1732826\n",
      "187 City Name: Zhangye / ID:1785036\n",
      "188 City Name: San Antonio / ID:4726206\n",
      "189 City Name: Bay Roberts / ID:5895424\n",
      "190 City Name: Huarmey / ID:3939168\n",
      "191 City Name: Mago / ID:2123621\n",
      "Missing city...skipping | babanusah\n",
      "192 City Name: Olafsvik / ID:3414079\n",
      "193 City Name: Bira / ID:2026659\n",
      "194 City Name: Pāthardi / ID:1260135\n",
      "195 City Name: Marystown / ID:6067472\n",
      "196 City Name: Storforshei / ID:3145614\n",
      "197 City Name: Veinticinco de Mayo / ID:3833112\n",
      "198 City Name: Waipawa / ID:2206874\n",
      "199 City Name: Wanning / ID:1791779\n",
      "200 City Name: Sinnamary / ID:3380290\n",
      "201 City Name: Øksfjord / ID:778362\n",
      "Missing city...skipping | umzimvubu\n",
      "202 City Name: New Norfolk / ID:2155415\n",
      "Missing city...skipping | skalistyy\n",
      "203 City Name: Avera / ID:4231997\n",
      "204 City Name: Williston / ID:5692947\n",
      "205 City Name: Petropavlovsk-Kamchatskiy / ID:2122104\n",
      "206 City Name: Abū Zabad / ID:380348\n",
      "207 City Name: Treinta y Tres / ID:3439781\n",
      "Missing city...skipping | grand river south east\n",
      "208 City Name: Abu Kamal / ID:174448\n"
     ]
    },
    {
     "name": "stdout",
     "output_type": "stream",
     "text": [
      "209 City Name: Airai / ID:1651810\n",
      "210 City Name: Luoyang / ID:1801792\n",
      "211 City Name: Saurimo / ID:145531\n",
      "212 City Name: Port-Gentil / ID:2396518\n",
      "213 City Name: Wuda / ID:1791325\n",
      "214 City Name: Lavrentiya / ID:4031637\n",
      "215 City Name: Thompson / ID:6165406\n",
      "216 City Name: Caçapava do Sul / ID:3468560\n",
      "217 City Name: Aksarka / ID:1512019\n",
      "Missing city...skipping | sinkat\n",
      "218 City Name: Umba / ID:479071\n",
      "219 City Name: Brownfield / ID:5517675\n",
      "220 City Name: Nyaunglebin / ID:1303406\n",
      "221 City Name: Aracaju / ID:3471872\n",
      "Missing city...skipping | bur gabo\n",
      "222 City Name: Sijunjung / ID:1627185\n",
      "223 City Name: Comodoro Rivadavia / ID:3860443\n",
      "224 City Name: Torbay / ID:6167817\n",
      "225 City Name: Malakal / ID:370737\n",
      "Missing city...skipping | longlac\n",
      "226 City Name: São Filipe / ID:3374210\n",
      "227 City Name: Forsytheganj / ID:10722858\n",
      "228 City Name: Terrace / ID:6162949\n",
      "229 City Name: Umm Kaddadah / ID:364933\n",
      "Missing city...skipping | nizhneyansk\n",
      "230 City Name: Concepción / ID:3893894\n",
      "231 City Name: Faanui / ID:4034551\n",
      "232 City Name: Mezhdurechensk / ID:1498920\n",
      "Missing city...skipping | shkotovo-26\n",
      "233 City Name: Zabaykal'sk / ID:2012780\n",
      "234 City Name: Anshan / ID:2038632\n",
      "235 City Name: Khovd / ID:1516048\n",
      "236 City Name: Trivandrum / ID:1254163\n",
      "237 City Name: Hindoria / ID:1270082\n",
      "238 City Name: Barreirinha / ID:3406202\n",
      "239 City Name: Dingle / ID:1714733\n",
      "240 City Name: Bayan / ID:2038421\n",
      "241 City Name: Lithgow / ID:2160053\n",
      "242 City Name: Camacha / ID:2270385\n",
      "243 City Name: Alugan / ID:1731248\n",
      "244 City Name: Kargasok / ID:1504382\n",
      "Missing city...skipping | tsihombe\n",
      "245 City Name: Caucaia / ID:3402429\n",
      "246 City Name: Zavyalovo / ID:1505506\n",
      "247 City Name: San Benito / ID:3590389\n",
      "248 City Name: Miramar / ID:4164601\n",
      "249 City Name: Plouzané / ID:2986626\n",
      "250 City Name: Iisalmi / ID:656820\n",
      "251 City Name: Arlit / ID:2447513\n",
      "252 City Name: Dudinka / ID:1507116\n",
      "253 City Name: Qaanaaq / ID:3831208\n",
      "254 City Name: Sīwah / ID:347863\n",
      "255 City Name: Stranda / ID:3135813\n",
      "256 City Name: Tura / ID:1254046\n",
      "257 City Name: Esperance / ID:2071860\n",
      "258 City Name: Saint Paul Harbor / ID:5866583\n",
      "Missing city...skipping | chagda\n",
      "259 City Name: Warrington / ID:2634739\n",
      "260 City Name: Manatí / ID:4566137\n",
      "261 City Name: Punto Fijo / ID:3629576\n",
      "262 City Name: Bambous Virieux / ID:1106677\n",
      "Missing city...skipping | rungata\n",
      "263 City Name: Morón / ID:3430545\n",
      "264 City Name: Ostrovnoy / ID:556268\n",
      "265 City Name: Velasco Ibarra / ID:3650273\n",
      "266 City Name: Straumen / ID:3135728\n",
      "267 City Name: Potrerillos / ID:3603330\n",
      "268 City Name: Keetmanshoop / ID:3356264\n",
      "269 City Name: Hofn / ID:2630299\n",
      "270 City Name: Bowen / ID:2174444\n",
      "271 City Name: Kahului / ID:5847411\n",
      "272 City Name: Makokou / ID:2399371\n",
      "273 City Name: Santa Fe / ID:3836277\n",
      "274 City Name: Bestöbe / ID:1525376\n",
      "275 City Name: Cavalcante / ID:3466594\n",
      "276 City Name: Poum / ID:2138555\n",
      "277 City Name: Flinders / ID:6255012\n",
      "278 City Name: Hong Kong / ID:1819729\n",
      "279 City Name: George Town / ID:1735106\n",
      "280 City Name: Ghanzi / ID:933759\n",
      "281 City Name: Pierre / ID:5767918\n",
      "282 City Name: Whitianga / ID:2179103\n",
      "283 City Name: Koulamoutou / ID:2399959\n",
      "Missing city...skipping | buariki\n",
      "284 City Name: Nome / ID:5870133\n",
      "285 City Name: Baturaja / ID:1649593\n",
      "Missing city...skipping | buqayq\n",
      "286 City Name: Eydhafushi / ID:1337606\n",
      "287 City Name: Russell / ID:4047434\n",
      "288 City Name: Avarua / ID:4035715\n",
      "289 City Name: Conceição do Araguaia / ID:3401845\n",
      "290 City Name: São Miguel do Araguaia / ID:3448455\n",
      "291 City Name: Prince Rupert / ID:6113406\n",
      "292 City Name: Mandiana / ID:2417795\n",
      "293 City Name: Yulara / ID:6355222\n",
      "294 City Name: Jalu / ID:86049\n",
      "295 City Name: Ertil' / ID:563420\n",
      "296 City Name: Mosina / ID:3091407\n",
      "297 City Name: Kutum / ID:371745\n",
      "298 City Name: Hasanpur / ID:1270251\n",
      "299 City Name: La Ronge / ID:6050066\n",
      "300 City Name: Anchorage / ID:5879400\n",
      "301 City Name: Portland / ID:5746545\n",
      "302 City Name: Calama / ID:3897347\n",
      "303 City Name: Porto-Novo / ID:2392087\n",
      "304 City Name: Bubanza Province / ID:428514\n",
      "305 City Name: Leh / ID:1264976\n",
      "306 City Name: Myingyan / ID:1307835\n",
      "Missing city...skipping | sorvag\n",
      "307 City Name: Bagé / ID:3471196\n",
      "308 City Name: Klaksvík / ID:2618795\n",
      "309 City Name: Anito / ID:1730622\n",
      "310 City Name: Viedma / ID:3832899\n",
      "311 City Name: Kaitangata / ID:2208248\n",
      "312 City Name: Verkhoyansk / ID:2013465\n",
      "313 City Name: Caravelas / ID:3466980\n",
      "314 City Name: Cayenne / ID:3382160\n",
      "315 City Name: Dalvik / ID:2632287\n",
      "316 City Name: Portovelo / ID:3652943\n",
      "317 City Name: Luanda / ID:2240449\n",
      "318 City Name: Pisco / ID:3932145\n",
      "319 City Name: Vila Franca do Campo / ID:3372472\n",
      "320 City Name: Amahai / ID:1651591\n",
      "321 City Name: Narsaq / ID:3421719\n",
      "322 City Name: Pedernales / ID:3495137\n",
      "323 City Name: Oktyabr'skoye / ID:515805\n",
      "324 City Name: Port Macquarie / ID:2152659\n",
      "325 City Name: Pacific Grove / ID:5380437\n",
      "326 City Name: Baruun-Urt / ID:2032614\n",
      "327 City Name: Padang / ID:1633419\n",
      "328 City Name: Severo-Kuril'sk / ID:2121385\n",
      "329 City Name: Biak / ID:1637001\n",
      "330 City Name: Kununurra / ID:2068110\n",
      "331 City Name: Hollins / ID:4764534\n",
      "332 City Name: Kribi / ID:2229761\n",
      "333 City Name: Port Hardy / ID:6111862\n",
      "Missing city...skipping | sentyabrskiy\n",
      "334 City Name: Baghlan / ID:1147540\n",
      "335 City Name: Kawalu / ID:1640902\n",
      "Missing city...skipping | ruatoria\n",
      "336 City Name: Sakassou / ID:2282178\n",
      "337 City Name: Saint-Gilles / ID:2979679\n",
      "338 City Name: Itarema / ID:3393692\n",
      "339 City Name: Mafeteng / ID:932614\n",
      "340 City Name: Amga / ID:2027786\n",
      "341 City Name: Mossamedes / ID:3347019\n",
      "342 City Name: Vallenar / ID:3868633\n",
      "343 City Name: Ancud / ID:3899695\n",
      "344 City Name: Hīrna / ID:334700\n",
      "345 City Name: Clyde River / ID:5924351\n",
      "Missing city...skipping | cagayan de tawi-tawi\n",
      "346 City Name: Souillac / ID:933995\n",
      "Missing city...skipping | wahran\n",
      "347 City Name: São Marcos / ID:3448533\n",
      "348 City Name: Ahipara / ID:2194098\n",
      "349 City Name: Basco / ID:1726449\n",
      "350 City Name: Malbork / ID:3092472\n",
      "351 City Name: Broome / ID:5110365\n",
      "352 City Name: Steinbach am Taunus / ID:2828737\n",
      "353 City Name: Vestmannaeyjar / ID:3412093\n",
      "354 City Name: Aykhal / ID:2027296\n",
      "355 City Name: Cafarnaum / ID:3468314\n",
      "356 City Name: Chul'man / ID:2025261\n",
      "357 City Name: Kumul / ID:1529484\n",
      "358 City Name: Rosetta / ID:350203\n",
      "359 City Name: Burnie / ID:2173125\n",
      "Missing city...skipping | malwan\n",
      "360 City Name: Pimentel / ID:3693584\n",
      "361 City Name: Hasaki / ID:2112802\n",
      "362 City Name: Cervo / ID:3125287\n",
      "363 City Name: Iaciara / ID:3461641\n",
      "364 City Name: Verāval / ID:1253237\n",
      "365 City Name: Zhaozhou / ID:2033147\n",
      "366 City Name: Strezhevoy / ID:1490796\n",
      "367 City Name: Sandakan / ID:1734052\n",
      "368 City Name: Sumbe / ID:3346015\n",
      "369 City Name: Beroroha / ID:1066831\n",
      "370 City Name: Uravakonda / ID:1253698\n",
      "371 City Name: Ajdabiya / ID:89113\n",
      "372 City Name: Batagay / ID:2027044\n",
      "373 City Name: Inuvik / ID:5983607\n",
      "374 City Name: Santa Cruz de la Sierra / ID:3904906\n",
      "375 City Name: Vaasa / ID:632978\n",
      "376 City Name: Nāgar Karnūl / ID:1262230\n",
      "Missing city...skipping | kerteh\n",
      "377 City Name: Tuntum / ID:3385922\n",
      "378 City Name: Krasnosel'kup / ID:1502073\n",
      "379 City Name: Ariquemes / ID:3665199\n",
      "380 City Name: Āsosa / ID:343292\n",
      "381 City Name: Linqiong / ID:1803365\n",
      "382 City Name: Marsá Maţrūḩ / ID:352733\n",
      "383 City Name: Lagunas / ID:3695844\n",
      "384 City Name: Saldanha / ID:3361934\n",
      "385 City Name: Chapais / ID:5919850\n",
      "386 City Name: Salalah / ID:286621\n",
      "387 City Name: Province of Mantua / ID:3174050\n",
      "Missing city...skipping | sofiysk\n",
      "388 City Name: Fortuna / ID:5563839\n",
      "Missing city...skipping | viligili\n",
      "389 City Name: Kaeo / ID:2189343\n",
      "390 City Name: Ouésso / ID:2255564\n",
      "391 City Name: Saravan / ID:174726\n",
      "392 City Name: Luau / ID:876177\n",
      "393 City Name: Isla Vista / ID:5359864\n",
      "394 City Name: Yumen / ID:1528998\n",
      "395 City Name: Morondava / ID:1058381\n",
      "396 City Name: Hongjiang / ID:1808106\n",
      "397 City Name: Jidong / ID:2036519\n",
      "398 City Name: Rawson / ID:3839307\n",
      "399 City Name: Hungund / ID:1269876\n",
      "400 City Name: Port-Cartier / ID:6111696\n",
      "401 City Name: Guerrero Negro / ID:4021858\n",
      "402 City Name: Banda Aceh / ID:1215502\n",
      "403 City Name: Daru / ID:2098329\n",
      "404 City Name: Encruzilhada / ID:3464262\n",
      "405 City Name: Kudahuvadhoo / ID:1337607\n",
      "406 City Name: Novooleksiyivka / ID:699706\n",
      "407 City Name: Gryfino / ID:3098200\n",
      "408 City Name: Kaoma / ID:913323\n",
      "409 City Name: Stornoway / ID:2636790\n",
      "410 City Name: San Ramon / ID:5392593\n",
      "411 City Name: Puerto Colombia / ID:3671497\n"
     ]
    },
    {
     "name": "stdout",
     "output_type": "stream",
     "text": [
      "412 City Name: Kousséri / ID:2229798\n",
      "413 City Name: Isangel / ID:2136825\n",
      "414 City Name: Gloversville / ID:5118743\n",
      "415 City Name: Cerqueira César / ID:3466430\n",
      "416 City Name: Belaya Gora / ID:2126785\n",
      "417 City Name: Buctzotz / ID:3532089\n",
      "418 City Name: Salvatierra / ID:3988050\n",
      "419 City Name: Tumut / ID:2145875\n",
      "420 City Name: Rodrigues Alves / ID:3665210\n",
      "Missing city...skipping | aflu\n",
      "421 City Name: Udachny / ID:2014624\n",
      "422 City Name: Nabire / ID:1634614\n",
      "423 City Name: Yaan / ID:2338660\n",
      "424 City Name: Gråsten / ID:2621258\n",
      "425 City Name: Port Elizabeth / ID:964420\n",
      "426 City Name: Puerto Carreño / ID:3671519\n",
      "427 City Name: Maşyāf / ID:167046\n",
      "428 City Name: Izberbash / ID:554894\n",
      "Missing city...skipping | saleaula\n",
      "429 City Name: Mareeba / ID:2158767\n",
      "Missing city...skipping | vaitupu\n",
      "430 City Name: Ukiah / ID:5404476\n",
      "431 City Name: Arroyo de la Encomienda / ID:3129371\n",
      "432 City Name: Skellefteå / ID:602913\n",
      "433 City Name: Kenai / ID:5866063\n",
      "434 City Name: Ziyang / ID:1790863\n",
      "435 City Name: Kolpashevo / ID:1502862\n",
      "436 City Name: Sa Kaeo / ID:1606807\n",
      "437 City Name: Camalú / ID:3979216\n",
      "438 City Name: Vila Velha / ID:3445026\n",
      "439 City Name: Coxim / ID:3465228\n",
      "440 City Name: São José da Coroa Grande / ID:3388456\n",
      "441 City Name: Ta Khmau / ID:1821935\n",
      "442 City Name: Valparaíso / ID:3868626\n",
      "443 City Name: Gemena / ID:2315728\n",
      "444 City Name: Port Blair / ID:1259385\n",
      "445 City Name: Bukama / ID:217834\n",
      "446 City Name: Chaman / ID:1181611\n",
      "447 City Name: Nuuk / ID:3421319\n",
      "448 City Name: Kismayo / ID:55671\n",
      "449 City Name: Najrān / ID:103630\n",
      "450 City Name: Killorglin / ID:2963311\n",
      "451 City Name: Diffa / ID:2445704\n",
      "452 City Name: Balakhta / ID:1510998\n",
      "453 City Name: Tooele / ID:5783695\n",
      "454 City Name: Nizhneangarsk / ID:2019199\n",
      "455 City Name: Praia da Vitória / ID:3372760\n",
      "456 City Name: Altamirano / ID:3532996\n",
      "457 City Name: Zverinogolovskoye / ID:1484943\n",
      "458 City Name: Phibun Mangsahan / ID:1607730\n",
      "459 City Name: Pathein / ID:1328421\n",
      "460 City Name: Coquimbo / ID:3893629\n",
      "461 City Name: Aquiraz / ID:3407407\n",
      "462 City Name: Mogadishu / ID:53654\n",
      "Missing city...skipping | ituni\n",
      "463 City Name: Varhaug / ID:3132644\n",
      "464 City Name: Yar-Sale / ID:1486321\n",
      "465 City Name: Galesong / ID:1644605\n",
      "466 City Name: Scarborough / ID:2638419\n",
      "467 City Name: Los Llanos de Aridane / ID:2514651\n",
      "468 City Name: Okhotsk / ID:2122605\n",
      "469 City Name: Vişeu de Sus / ID:662699\n",
      "470 City Name: Piet Retief / ID:965241\n",
      "471 City Name: Khor / ID:2022317\n",
      "472 City Name: Mapiripán / ID:3792394\n",
      "473 City Name: Perth / ID:2063523\n",
      "474 City Name: Necochea / ID:3430443\n",
      "475 City Name: Itatskiy / ID:1505383\n",
      "476 City Name: Kibondo / ID:157960\n",
      "477 City Name: Bandundu Province / ID:2317397\n",
      "478 City Name: Tabou / ID:2281120\n",
      "479 City Name: Cieza / ID:2519425\n",
      "480 City Name: Yetkul' / ID:1485849\n",
      "481 City Name: New Bedford / ID:4945121\n",
      "482 City Name: Turukhansk / ID:1488903\n",
      "483 City Name: Gōtsuchō / ID:1863521\n",
      "484 City Name: Isāgarh / ID:1269685\n",
      "485 City Name: St. George's / ID:3579925\n",
      "486 City Name: Harwich / ID:2647383\n",
      "487 City Name: Gizo Government Station / ID:2108857\n",
      "488 City Name: Koslan / ID:544084\n",
      "Missing city...skipping | paradwip\n",
      "Missing city...skipping | crab hill\n",
      "489 City Name: Ambon City / ID:1651531\n",
      "490 City Name: Jeremoabo / ID:3459922\n",
      "491 City Name: Malabo / ID:2309527\n",
      "492 City Name: Zhengjiatun / ID:2033135\n",
      "493 City Name: Nemuro / ID:2128975\n",
      "494 City Name: Dinguiraye / ID:2421903\n",
      "495 City Name: Peace River / ID:6100069\n",
      "496 City Name: San Luis Jilotepeque / ID:3589822\n",
      "Missing city...skipping | utiroa\n",
      "497 City Name: Oktyabr'skiy / ID:515879\n",
      "498 City Name: Ouallam / ID:2440371\n",
      "499 City Name: Lulindi / ID:878184\n",
      "500 City Name: Sandnessjøen / ID:3140301\n",
      "501 City Name: Andenes / ID:3163146\n",
      "502 City Name: Diego de Almagro / ID:3892454\n",
      "503 City Name: Nsanje / ID:924572\n",
      "504 City Name: Teguise / ID:2510573\n",
      "505 City Name: Vidim / ID:2013406\n",
      "506 City Name: Bonavista / ID:5905393\n",
      "507 City Name: Deep River / ID:5937073\n",
      "508 City Name: Santa Cruz de La Palma / ID:2511180\n",
      "509 City Name: Kirakira / ID:2178753\n",
      "Missing city...skipping | daxian\n",
      "510 City Name: Khvoynaya / ID:548890\n",
      "511 City Name: Nouadhibou / ID:2377457\n",
      "512 City Name: Batemans Bay / ID:2176639\n",
      "513 City Name: Weihai / ID:1791673\n",
      "514 City Name: Evensk / ID:2125693\n",
      "515 City Name: Vicuña / ID:3868308\n",
      "516 City Name: Naze / ID:1855540\n",
      "517 City Name: North Bend / ID:5742974\n",
      "518 City Name: Chikmagalūr / ID:1274220\n",
      "519 City Name: Price / ID:5545269\n",
      "520 City Name: Turan / ID:1583992\n",
      "521 City Name: Tegul'det / ID:1489822\n",
      "522 City Name: Vilhena / ID:3924679\n",
      "523 City Name: Vangaindrano / ID:1054329\n",
      "524 City Name: Atar / ID:2381334\n",
      "525 City Name: High Prairie / ID:5975034\n",
      "526 City Name: Shache / ID:1280037\n",
      "527 City Name: Boyabat / ID:750468\n",
      "528 City Name: Labuhan / ID:8079926\n",
      "529 City Name: Cockburn Town / ID:3576994\n",
      "530 City Name: Jipijapa / ID:3655446\n",
      "531 City Name: Bonfim / ID:3405215\n",
      "532 City Name: Makakilo City / ID:5850554\n",
      "533 City Name: Muisne / ID:3653967\n",
      "Missing city...skipping | kamenskoye\n",
      "534 City Name: Tommot / ID:2015179\n",
      "535 City Name: Taltal / ID:3870243\n",
      "536 City Name: Mali / ID:2417886\n",
      "537 City Name: Merauke / ID:2082539\n",
      "Missing city...skipping | nguiu\n",
      "538 City Name: Oudtshoorn / ID:967106\n",
      "539 City Name: Riachão / ID:3390581\n",
      "540 City Name: Sisimiut / ID:3419842\n",
      "541 City Name: Belawan / ID:1215412\n",
      "542 City Name: Si Bun Rueang / ID:1606323\n",
      "543 City Name: Beruwala / ID:1249931\n",
      "544 City Name: Berlevåg / ID:780687\n",
      "545 City Name: Rastede / ID:6552856\n",
      "546 City Name: Kysyl-Syr / ID:2021017\n",
      "547 City Name: Loei / ID:1609070\n",
      "548 City Name: Cardenden / ID:2653824\n",
      "549 City Name: San Miguel de Cozumel / ID:3530103\n",
      "550 City Name: Miyako / ID:2111884\n",
      "551 City Name: Capaci / ID:2525392\n",
      "552 City Name: Rocky Mountain House / ID:6126749\n",
      "553 City Name: Bilibino / ID:2126682\n",
      "554 City Name: Gediz / ID:314716\n",
      "555 City Name: Avenal / ID:5325327\n",
      "556 City Name: City of San Pedro / ID:1688781\n",
      "557 City Name: Te Anau / ID:2181625\n",
      "558 City Name: Tessalit / ID:2449893\n",
      "559 City Name: Tākestān / ID:113491\n",
      "560 City Name: Cedar City / ID:5536630\n",
      "561 City Name: Huilong / ID:1806840\n",
      "562 City Name: Mortka / ID:1498402\n",
      "563 City Name: Olinda / ID:3393536\n",
      "564 City Name: Tuatapere / ID:2180815\n",
      "565 City Name: Borisoglebskiy / ID:572520\n",
      "566 City Name: Alice Springs / ID:2077895\n",
      "567 City Name: Kuril'sk / ID:2123979\n",
      "568 City Name: Roald / ID:3141667\n",
      "569 City Name: Sabha / ID:2212775\n",
      "570 City Name: Vanavara / ID:2013727\n",
      "571 City Name: Djebeniana / ID:2470260\n",
      "572 City Name: Belyy Yar / ID:1510377\n",
      "573 City Name: Goianésia / ID:3462378\n",
      "574 City Name: Ciudad Bolivar / ID:3645532\n",
      "575 City Name: Zyryanka / ID:2119283\n",
      "576 City Name: São Gabriel da Cachoeira / ID:3662342\n",
      "577 City Name: Nacozari / ID:4018499\n",
      "578 City Name: Liuzhou / ID:1803300\n",
      "579 City Name: Muhafazat Lahij / ID:6201197\n",
      "580 City Name: Seydi / ID:1218420\n",
      "581 City Name: Ferme-Neuve / ID:5952330\n",
      "582 City Name: Champerico / ID:3598787\n",
      "583 City Name: Naliya / ID:1262062\n",
      "584 City Name: Tursunzoda / ID:1220301\n",
      "585 City Name: Udon Thani / ID:1605239\n",
      "586 City Name: Preeceville / ID:6112862\n",
      "587 City Name: Areosa / ID:2742765\n",
      "588 City Name: Tautira / ID:4033557\n",
      "589 City Name: Fillan / ID:3157656\n"
     ]
    }
   ],
   "source": [
    "# Perform a weather check on each city using a series of successive API calls.\n",
    "# Include a print log of each city as it'sbeing processed (with the city number and city name).   \n",
    "\n",
    "\n",
    "#set up list to hold response info\n",
    "city_weather = []\n",
    "\n",
    "counter = 0\n",
    "\n",
    "#loop through the list of cities and perform a request for weather data for each city\n",
    "for city in cities:\n",
    "    \n",
    "    #gets response for each city\n",
    "    response = requests.get(query_url + city).json()  \n",
    "    \n",
    "    #try/except statement to handle errors when city is not found on openweather site\n",
    "    try:\n",
    "        \n",
    "        #create dictionary\n",
    "        weather_dict = {\n",
    "            \"City\": response['name'],\n",
    "            \"Lat\": response['coord']['lat'],\n",
    "            \"Lng\": response['coord']['lon'],\n",
    "            \"Max Temp\": response['main']['temp_max'],\n",
    "            \"Humidity\": response['main']['humidity'],\n",
    "            \"Cloudiness\": response['clouds']['all'],\n",
    "            \"Wind Speed\": response['wind']['speed'],\n",
    "            \"Country\": response['sys']['country'],\n",
    "            \"Date\": response['dt']\n",
    "        }\n",
    "        city_weather.append(weather_dict)\n",
    "        \n",
    "        counter = counter + 1\n",
    "        \n",
    "        print(f\"{counter} City Name: {response['name']} / ID:{response['id']}\")\n",
    "        \n",
    "        #pprint(response)\n",
    "\n",
    "    except:\n",
    "        \n",
    "        print(\"Missing city...skipping | \" + city)\n",
    "\n",
    "#city_weather\n"
   ]
  },
  {
   "cell_type": "markdown",
   "metadata": {},
   "source": [
    "### Convert Raw Data to DataFrame\n",
    "* Export the city data into a .csv.\n",
    "* Display the DataFrame"
   ]
  },
  {
   "cell_type": "code",
   "execution_count": 181,
   "metadata": {},
   "outputs": [
    {
     "data": {
      "text/html": [
       "<div>\n",
       "<style scoped>\n",
       "    .dataframe tbody tr th:only-of-type {\n",
       "        vertical-align: middle;\n",
       "    }\n",
       "\n",
       "    .dataframe tbody tr th {\n",
       "        vertical-align: top;\n",
       "    }\n",
       "\n",
       "    .dataframe thead th {\n",
       "        text-align: right;\n",
       "    }\n",
       "</style>\n",
       "<table border=\"1\" class=\"dataframe\">\n",
       "  <thead>\n",
       "    <tr style=\"text-align: right;\">\n",
       "      <th></th>\n",
       "      <th>City</th>\n",
       "      <th>Lat</th>\n",
       "      <th>Lng</th>\n",
       "      <th>Max Temp</th>\n",
       "      <th>Humidity</th>\n",
       "      <th>Cloudiness</th>\n",
       "      <th>Wind Speed</th>\n",
       "      <th>Country</th>\n",
       "      <th>Date</th>\n",
       "    </tr>\n",
       "  </thead>\n",
       "  <tbody>\n",
       "    <tr>\n",
       "      <th>0</th>\n",
       "      <td>Bredasdorp</td>\n",
       "      <td>-34.53</td>\n",
       "      <td>20.04</td>\n",
       "      <td>48.20</td>\n",
       "      <td>81</td>\n",
       "      <td>100</td>\n",
       "      <td>17.22</td>\n",
       "      <td>ZA</td>\n",
       "      <td>2020-07-13 20:16:40</td>\n",
       "    </tr>\n",
       "    <tr>\n",
       "      <th>1</th>\n",
       "      <td>Mataura</td>\n",
       "      <td>-46.19</td>\n",
       "      <td>168.86</td>\n",
       "      <td>39.00</td>\n",
       "      <td>83</td>\n",
       "      <td>100</td>\n",
       "      <td>3.00</td>\n",
       "      <td>NZ</td>\n",
       "      <td>2020-07-13 20:19:26</td>\n",
       "    </tr>\n",
       "    <tr>\n",
       "      <th>2</th>\n",
       "      <td>Kangaatsiaq</td>\n",
       "      <td>68.31</td>\n",
       "      <td>-53.46</td>\n",
       "      <td>41.76</td>\n",
       "      <td>92</td>\n",
       "      <td>96</td>\n",
       "      <td>16.28</td>\n",
       "      <td>GL</td>\n",
       "      <td>2020-07-13 20:20:52</td>\n",
       "    </tr>\n",
       "    <tr>\n",
       "      <th>3</th>\n",
       "      <td>Albany</td>\n",
       "      <td>42.60</td>\n",
       "      <td>-73.97</td>\n",
       "      <td>89.01</td>\n",
       "      <td>37</td>\n",
       "      <td>4</td>\n",
       "      <td>1.01</td>\n",
       "      <td>US</td>\n",
       "      <td>2020-07-13 20:18:12</td>\n",
       "    </tr>\n",
       "    <tr>\n",
       "      <th>4</th>\n",
       "      <td>Mahébourg</td>\n",
       "      <td>-20.41</td>\n",
       "      <td>57.70</td>\n",
       "      <td>69.80</td>\n",
       "      <td>88</td>\n",
       "      <td>40</td>\n",
       "      <td>11.41</td>\n",
       "      <td>MU</td>\n",
       "      <td>2020-07-13 20:20:06</td>\n",
       "    </tr>\n",
       "    <tr>\n",
       "      <th>...</th>\n",
       "      <td>...</td>\n",
       "      <td>...</td>\n",
       "      <td>...</td>\n",
       "      <td>...</td>\n",
       "      <td>...</td>\n",
       "      <td>...</td>\n",
       "      <td>...</td>\n",
       "      <td>...</td>\n",
       "      <td>...</td>\n",
       "    </tr>\n",
       "    <tr>\n",
       "      <th>584</th>\n",
       "      <td>Udon Thani</td>\n",
       "      <td>17.42</td>\n",
       "      <td>102.79</td>\n",
       "      <td>77.61</td>\n",
       "      <td>85</td>\n",
       "      <td>100</td>\n",
       "      <td>4.05</td>\n",
       "      <td>TH</td>\n",
       "      <td>2020-07-13 20:22:13</td>\n",
       "    </tr>\n",
       "    <tr>\n",
       "      <th>585</th>\n",
       "      <td>Preeceville</td>\n",
       "      <td>51.95</td>\n",
       "      <td>-102.67</td>\n",
       "      <td>66.02</td>\n",
       "      <td>75</td>\n",
       "      <td>59</td>\n",
       "      <td>13.24</td>\n",
       "      <td>CA</td>\n",
       "      <td>2020-07-13 20:22:14</td>\n",
       "    </tr>\n",
       "    <tr>\n",
       "      <th>586</th>\n",
       "      <td>Areosa</td>\n",
       "      <td>41.72</td>\n",
       "      <td>-8.86</td>\n",
       "      <td>80.01</td>\n",
       "      <td>54</td>\n",
       "      <td>0</td>\n",
       "      <td>4.70</td>\n",
       "      <td>PT</td>\n",
       "      <td>2020-07-13 20:22:14</td>\n",
       "    </tr>\n",
       "    <tr>\n",
       "      <th>587</th>\n",
       "      <td>Tautira</td>\n",
       "      <td>-17.73</td>\n",
       "      <td>-149.15</td>\n",
       "      <td>78.80</td>\n",
       "      <td>78</td>\n",
       "      <td>75</td>\n",
       "      <td>6.93</td>\n",
       "      <td>PF</td>\n",
       "      <td>2020-07-13 20:22:14</td>\n",
       "    </tr>\n",
       "    <tr>\n",
       "      <th>588</th>\n",
       "      <td>Fillan</td>\n",
       "      <td>63.61</td>\n",
       "      <td>8.97</td>\n",
       "      <td>55.40</td>\n",
       "      <td>66</td>\n",
       "      <td>75</td>\n",
       "      <td>3.36</td>\n",
       "      <td>NO</td>\n",
       "      <td>2020-07-13 20:22:14</td>\n",
       "    </tr>\n",
       "  </tbody>\n",
       "</table>\n",
       "<p>589 rows × 9 columns</p>\n",
       "</div>"
      ],
      "text/plain": [
       "            City    Lat     Lng  Max Temp  Humidity  Cloudiness  Wind Speed  \\\n",
       "0     Bredasdorp -34.53   20.04     48.20        81         100       17.22   \n",
       "1        Mataura -46.19  168.86     39.00        83         100        3.00   \n",
       "2    Kangaatsiaq  68.31  -53.46     41.76        92          96       16.28   \n",
       "3         Albany  42.60  -73.97     89.01        37           4        1.01   \n",
       "4      Mahébourg -20.41   57.70     69.80        88          40       11.41   \n",
       "..           ...    ...     ...       ...       ...         ...         ...   \n",
       "584   Udon Thani  17.42  102.79     77.61        85         100        4.05   \n",
       "585  Preeceville  51.95 -102.67     66.02        75          59       13.24   \n",
       "586       Areosa  41.72   -8.86     80.01        54           0        4.70   \n",
       "587      Tautira -17.73 -149.15     78.80        78          75        6.93   \n",
       "588       Fillan  63.61    8.97     55.40        66          75        3.36   \n",
       "\n",
       "    Country                Date  \n",
       "0        ZA 2020-07-13 20:16:40  \n",
       "1        NZ 2020-07-13 20:19:26  \n",
       "2        GL 2020-07-13 20:20:52  \n",
       "3        US 2020-07-13 20:18:12  \n",
       "4        MU 2020-07-13 20:20:06  \n",
       "..      ...                 ...  \n",
       "584      TH 2020-07-13 20:22:13  \n",
       "585      CA 2020-07-13 20:22:14  \n",
       "586      PT 2020-07-13 20:22:14  \n",
       "587      PF 2020-07-13 20:22:14  \n",
       "588      NO 2020-07-13 20:22:14  \n",
       "\n",
       "[589 rows x 9 columns]"
      ]
     },
     "execution_count": 181,
     "metadata": {},
     "output_type": "execute_result"
    }
   ],
   "source": [
    "weather_df = pd.DataFrame(city_weather)\n",
    "weather_df\n",
    "\n",
    "weather_df['Date'] = pd.to_datetime(weather_df['Date'], unit ='s')\n",
    "\n",
    "weather_df\n",
    "\n",
    "#export df to csv\n",
    "#weather_df.to_csv(r'Weather_DF.csv')\n"
   ]
  },
  {
   "cell_type": "markdown",
   "metadata": {},
   "source": [
    "## Inspect the data and remove the cities where the humidity > 100%.\n",
    "----\n",
    "Skip this step if there are no cities that have humidity > 100%. "
   ]
  },
  {
   "cell_type": "code",
   "execution_count": 9,
   "metadata": {},
   "outputs": [
    {
     "data": {
      "text/plain": [
       "0"
      ]
     },
     "execution_count": 9,
     "metadata": {},
     "output_type": "execute_result"
    }
   ],
   "source": [
    "#  Get the indices of cities that have humidity over 100%.\n",
    "humidity = weather_df.loc[(weather_df['Humidity']>100)]\n",
    "len(humidity)\n"
   ]
  },
  {
   "cell_type": "code",
   "execution_count": 118,
   "metadata": {},
   "outputs": [
    {
     "data": {
      "text/html": [
       "<div>\n",
       "<style scoped>\n",
       "    .dataframe tbody tr th:only-of-type {\n",
       "        vertical-align: middle;\n",
       "    }\n",
       "\n",
       "    .dataframe tbody tr th {\n",
       "        vertical-align: top;\n",
       "    }\n",
       "\n",
       "    .dataframe thead th {\n",
       "        text-align: right;\n",
       "    }\n",
       "</style>\n",
       "<table border=\"1\" class=\"dataframe\">\n",
       "  <thead>\n",
       "    <tr style=\"text-align: right;\">\n",
       "      <th></th>\n",
       "      <th>City</th>\n",
       "      <th>Lat</th>\n",
       "      <th>Lng</th>\n",
       "      <th>Max Temp</th>\n",
       "      <th>Humidity</th>\n",
       "      <th>Cloudiness</th>\n",
       "      <th>Wind Speed</th>\n",
       "      <th>Country</th>\n",
       "      <th>Date</th>\n",
       "    </tr>\n",
       "  </thead>\n",
       "  <tbody>\n",
       "    <tr>\n",
       "      <th>0</th>\n",
       "      <td>Bredasdorp</td>\n",
       "      <td>-34.53</td>\n",
       "      <td>20.04</td>\n",
       "      <td>48.20</td>\n",
       "      <td>81</td>\n",
       "      <td>100</td>\n",
       "      <td>17.22</td>\n",
       "      <td>ZA</td>\n",
       "      <td>2020-07-13 20:16:40</td>\n",
       "    </tr>\n",
       "    <tr>\n",
       "      <th>1</th>\n",
       "      <td>Mataura</td>\n",
       "      <td>-46.19</td>\n",
       "      <td>168.86</td>\n",
       "      <td>39.00</td>\n",
       "      <td>83</td>\n",
       "      <td>100</td>\n",
       "      <td>3.00</td>\n",
       "      <td>NZ</td>\n",
       "      <td>2020-07-13 20:19:26</td>\n",
       "    </tr>\n",
       "    <tr>\n",
       "      <th>2</th>\n",
       "      <td>Kangaatsiaq</td>\n",
       "      <td>68.31</td>\n",
       "      <td>-53.46</td>\n",
       "      <td>41.76</td>\n",
       "      <td>92</td>\n",
       "      <td>96</td>\n",
       "      <td>16.28</td>\n",
       "      <td>GL</td>\n",
       "      <td>2020-07-13 20:20:52</td>\n",
       "    </tr>\n",
       "    <tr>\n",
       "      <th>3</th>\n",
       "      <td>Albany</td>\n",
       "      <td>42.60</td>\n",
       "      <td>-73.97</td>\n",
       "      <td>89.01</td>\n",
       "      <td>37</td>\n",
       "      <td>4</td>\n",
       "      <td>1.01</td>\n",
       "      <td>US</td>\n",
       "      <td>2020-07-13 20:18:12</td>\n",
       "    </tr>\n",
       "    <tr>\n",
       "      <th>4</th>\n",
       "      <td>Mahébourg</td>\n",
       "      <td>-20.41</td>\n",
       "      <td>57.70</td>\n",
       "      <td>69.80</td>\n",
       "      <td>88</td>\n",
       "      <td>40</td>\n",
       "      <td>11.41</td>\n",
       "      <td>MU</td>\n",
       "      <td>2020-07-13 20:20:06</td>\n",
       "    </tr>\n",
       "    <tr>\n",
       "      <th>...</th>\n",
       "      <td>...</td>\n",
       "      <td>...</td>\n",
       "      <td>...</td>\n",
       "      <td>...</td>\n",
       "      <td>...</td>\n",
       "      <td>...</td>\n",
       "      <td>...</td>\n",
       "      <td>...</td>\n",
       "      <td>...</td>\n",
       "    </tr>\n",
       "    <tr>\n",
       "      <th>584</th>\n",
       "      <td>Udon Thani</td>\n",
       "      <td>17.42</td>\n",
       "      <td>102.79</td>\n",
       "      <td>77.61</td>\n",
       "      <td>85</td>\n",
       "      <td>100</td>\n",
       "      <td>4.05</td>\n",
       "      <td>TH</td>\n",
       "      <td>2020-07-13 20:22:13</td>\n",
       "    </tr>\n",
       "    <tr>\n",
       "      <th>585</th>\n",
       "      <td>Preeceville</td>\n",
       "      <td>51.95</td>\n",
       "      <td>-102.67</td>\n",
       "      <td>66.02</td>\n",
       "      <td>75</td>\n",
       "      <td>59</td>\n",
       "      <td>13.24</td>\n",
       "      <td>CA</td>\n",
       "      <td>2020-07-13 20:22:14</td>\n",
       "    </tr>\n",
       "    <tr>\n",
       "      <th>586</th>\n",
       "      <td>Areosa</td>\n",
       "      <td>41.72</td>\n",
       "      <td>-8.86</td>\n",
       "      <td>80.01</td>\n",
       "      <td>54</td>\n",
       "      <td>0</td>\n",
       "      <td>4.70</td>\n",
       "      <td>PT</td>\n",
       "      <td>2020-07-13 20:22:14</td>\n",
       "    </tr>\n",
       "    <tr>\n",
       "      <th>587</th>\n",
       "      <td>Tautira</td>\n",
       "      <td>-17.73</td>\n",
       "      <td>-149.15</td>\n",
       "      <td>78.80</td>\n",
       "      <td>78</td>\n",
       "      <td>75</td>\n",
       "      <td>6.93</td>\n",
       "      <td>PF</td>\n",
       "      <td>2020-07-13 20:22:14</td>\n",
       "    </tr>\n",
       "    <tr>\n",
       "      <th>588</th>\n",
       "      <td>Fillan</td>\n",
       "      <td>63.61</td>\n",
       "      <td>8.97</td>\n",
       "      <td>55.40</td>\n",
       "      <td>66</td>\n",
       "      <td>75</td>\n",
       "      <td>3.36</td>\n",
       "      <td>NO</td>\n",
       "      <td>2020-07-13 20:22:14</td>\n",
       "    </tr>\n",
       "  </tbody>\n",
       "</table>\n",
       "<p>589 rows × 9 columns</p>\n",
       "</div>"
      ],
      "text/plain": [
       "            City    Lat     Lng  Max Temp  Humidity  Cloudiness  Wind Speed  \\\n",
       "0     Bredasdorp -34.53   20.04     48.20        81         100       17.22   \n",
       "1        Mataura -46.19  168.86     39.00        83         100        3.00   \n",
       "2    Kangaatsiaq  68.31  -53.46     41.76        92          96       16.28   \n",
       "3         Albany  42.60  -73.97     89.01        37           4        1.01   \n",
       "4      Mahébourg -20.41   57.70     69.80        88          40       11.41   \n",
       "..           ...    ...     ...       ...       ...         ...         ...   \n",
       "584   Udon Thani  17.42  102.79     77.61        85         100        4.05   \n",
       "585  Preeceville  51.95 -102.67     66.02        75          59       13.24   \n",
       "586       Areosa  41.72   -8.86     80.01        54           0        4.70   \n",
       "587      Tautira -17.73 -149.15     78.80        78          75        6.93   \n",
       "588       Fillan  63.61    8.97     55.40        66          75        3.36   \n",
       "\n",
       "    Country                Date  \n",
       "0        ZA 2020-07-13 20:16:40  \n",
       "1        NZ 2020-07-13 20:19:26  \n",
       "2        GL 2020-07-13 20:20:52  \n",
       "3        US 2020-07-13 20:18:12  \n",
       "4        MU 2020-07-13 20:20:06  \n",
       "..      ...                 ...  \n",
       "584      TH 2020-07-13 20:22:13  \n",
       "585      CA 2020-07-13 20:22:14  \n",
       "586      PT 2020-07-13 20:22:14  \n",
       "587      PF 2020-07-13 20:22:14  \n",
       "588      NO 2020-07-13 20:22:14  \n",
       "\n",
       "[589 rows x 9 columns]"
      ]
     },
     "execution_count": 118,
     "metadata": {},
     "output_type": "execute_result"
    }
   ],
   "source": [
    "# Make a new DataFrame equal to the city data to drop all humidity outliers by index.\n",
    "# Passing \"inplace=False\" will make a copy of the city_data DataFrame, which we call \"clean_city_data\".\n",
    "\n",
    "#SKIPPING \n",
    "\n",
    "clean_weather_df = weather_df.loc[weather_df['Humidity'] <= 100]\n",
    "clean_weather_df\n",
    "\n"
   ]
  },
  {
   "cell_type": "code",
   "execution_count": 91,
   "metadata": {},
   "outputs": [],
   "source": [
    "# Extract relevant fields from the data frame\n",
    "# Export the City_Data into a csv\n",
    "\n",
    "#clean_weather_df.to_csv(r'Weather_DF.csv')"
   ]
  },
  {
   "cell_type": "markdown",
   "metadata": {},
   "source": [
    "## Plotting the Data\n",
    "* Use proper labeling of the plots using plot titles (including date of analysis) and axes labels.\n",
    "* Save the plotted figures as .pngs."
   ]
  },
  {
   "cell_type": "markdown",
   "metadata": {},
   "source": [
    "## Latitude vs. Temperature Plot"
   ]
  },
  {
   "cell_type": "code",
   "execution_count": 169,
   "metadata": {},
   "outputs": [],
   "source": [
    "#inlcuding date variable for title\n",
    "date_stamp = weather_df.iloc[0,8]\n",
    "\n",
    "#date_stamp = weather_df['Date'].values[0]\n",
    "#date_stamp.time.strftime('%Y-%m-%d', time.localtime())\n",
    "#date_stamp\n",
    "\n",
    "\n"
   ]
  },
  {
   "cell_type": "code",
   "execution_count": 125,
   "metadata": {
    "scrolled": true
   },
   "outputs": [
    {
     "data": {
      "image/png": "[encoded data removed]",
      "text/plain": [
       "<Figure size 432x288 with 1 Axes>"
      ]
     },
     "metadata": {
      "needs_background": "light"
     },
     "output_type": "display_data"
    }
   ],
   "source": [
    "x_axis = weather_df['Lat']\n",
    "y_axis = weather_df['Max Temp']\n",
    "\n",
    "plt.xlabel(\"Latitude\")\n",
    "plt.ylabel(\"Max Temp (F)\")\n",
    "plt.title(f'City Latitude vs Max Temp {date_stamp}')\n",
    "plt.scatter(x_axis, y_axis)\n",
    "\n",
    "#print scatter plot to png file - commented out afterwards\n",
    "#plt.savefig(\"Latitude vs Temperature.png\")   \n",
    "\n",
    "plt.show()\n"
   ]
  },
  {
   "cell_type": "code",
   "execution_count": 126,
   "metadata": {},
   "outputs": [],
   "source": [
    "#analysis: Temperature varies by latitude. Tempearture is typically warmest near the equator and decreases the further away from the equater you are. "
   ]
  },
  {
   "cell_type": "markdown",
   "metadata": {},
   "source": [
    "## Latitude vs. Humidity Plot"
   ]
  },
  {
   "cell_type": "code",
   "execution_count": 151,
   "metadata": {},
   "outputs": [
    {
     "data": {
      "image/png": "[encoded data removed]",
      "text/plain": [
       "<Figure size 432x288 with 1 Axes>"
      ]
     },
     "metadata": {
      "needs_background": "light"
     },
     "output_type": "display_data"
    }
   ],
   "source": [
    "x_axis2 = clean_weather_df['Lat']\n",
    "y_axis2 = clean_weather_df['Humidity']\n",
    "\n",
    "plt.xlabel(\"Latitude\")\n",
    "plt.ylabel(\"Humidity(%)\")\n",
    "plt.title(f'City Latitude vs Humidity(%) {date_stamp}')\n",
    "plt.scatter(x_axis2, y_axis2)\n",
    "\n",
    "\n",
    "#print scatter plot to png file - commented out afterwards\n",
    "#plt.savefig(\"Latitude vs Humidity.png\")\n",
    "\n",
    "plt.show()"
   ]
  },
  {
   "cell_type": "code",
   "execution_count": 128,
   "metadata": {},
   "outputs": [],
   "source": [
    "#analysis: higher humidity is more common around the world. there is no correlation between latitude and humidity."
   ]
  },
  {
   "cell_type": "markdown",
   "metadata": {},
   "source": [
    "## Latitude vs. Cloudiness Plot"
   ]
  },
  {
   "cell_type": "code",
   "execution_count": 153,
   "metadata": {},
   "outputs": [
    {
     "data": {
      "image/png": "[encoded data removed]",
      "text/plain": [
       "<Figure size 432x288 with 1 Axes>"
      ]
     },
     "metadata": {
      "needs_background": "light"
     },
     "output_type": "display_data"
    }
   ],
   "source": [
    "x_axis3 = clean_weather_df['Lat']\n",
    "y_axis3 = clean_weather_df['Cloudiness']\n",
    "\n",
    "plt.xlabel(\"Latitude\")\n",
    "plt.ylabel(\"Cloudiness\")\n",
    "plt.title(f'City Latitude vs Cloudiness {date_stamp}')\n",
    "plt.scatter(x_axis3, y_axis3)\n",
    "\n",
    "#print scatter plot to png file - commented out afterwards\n",
    "#plt.savefig(\"Latitude vs Cloudiness.png\")\n",
    "\n",
    "plt.show()"
   ]
  },
  {
   "cell_type": "code",
   "execution_count": 130,
   "metadata": {},
   "outputs": [],
   "source": [
    "#analysis: there is no correlation between cloudiness and latitude."
   ]
  },
  {
   "cell_type": "markdown",
   "metadata": {},
   "source": [
    "## Latitude vs. Wind Speed Plot"
   ]
  },
  {
   "cell_type": "code",
   "execution_count": 154,
   "metadata": {},
   "outputs": [
    {
     "data": {
      "image/png": "[encoded data removed]",
      "text/plain": [
       "<Figure size 432x288 with 1 Axes>"
      ]
     },
     "metadata": {
      "needs_background": "light"
     },
     "output_type": "display_data"
    }
   ],
   "source": [
    "x_axis4 = clean_weather_df['Lat']\n",
    "y_axis4 = clean_weather_df['Wind Speed']\n",
    "\n",
    "plt.xlabel(\"Latitude\")\n",
    "plt.ylabel(\"Wind Speed\")\n",
    "plt.title(f'City Latitude vs Wind Speed {date_stamp}')\n",
    "plt.scatter(x_axis4, y_axis4)\n",
    "\n",
    "#print scatter plot to png file - commented out afterwards\n",
    "#plt.savefig(\"Latitude vs Wind Speed.png\")\n",
    "\n",
    "plt.show()"
   ]
  },
  {
   "cell_type": "code",
   "execution_count": 132,
   "metadata": {},
   "outputs": [],
   "source": [
    "#analysis: most wind speeds are under 15 mph. there is no correlation between latitude and wind speed."
   ]
  },
  {
   "cell_type": "markdown",
   "metadata": {},
   "source": [
    "## Linear Regression"
   ]
  },
  {
   "cell_type": "code",
   "execution_count": 133,
   "metadata": {},
   "outputs": [],
   "source": [
    "# OPTIONAL: Create a function to create Linear Regression plots\n",
    "\n",
    "def splot(xaxis, yaxis, title, xlabel, ylabel, annotation):\n",
    "    #calculate linear regression and plot the line\n",
    "    (slope, intercept, rvalue, pvalue, stderr) = st.linregress(xaxis, yaxis)\n",
    "    regress_values = xaxis * slope + intercept\n",
    "    line_eq = \"y = \" + str(round(slope,2)) + \"x + \" + str(round(intercept,2))\n",
    "    plt.scatter(xaxis, yaxis)\n",
    "    plt.plot(xaxis,regress_values,\"r-\")\n",
    "    plt.annotate(line_eq,(annotation),fontsize=15,color=\"red\")\n",
    "    \n",
    "    print(f\"The r-squared is: {rvalue**2}\")\n",
    "    \n",
    "    \n",
    "    plt.xlabel(xlabel)\n",
    "    plt.ylabel(ylabel)           \n",
    "    plt.title(title)  \n",
    "    \n",
    "    plt.show()\n"
   ]
  },
  {
   "cell_type": "code",
   "execution_count": 134,
   "metadata": {},
   "outputs": [],
   "source": [
    "# Create Northern and Southern Hemisphere DataFrames\n",
    "nhem_df = clean_weather_df.loc[(clean_weather_df['Lat']>0)]\n",
    "shem_df = clean_weather_df.loc[(clean_weather_df['Lat']<0)]\n"
   ]
  },
  {
   "cell_type": "markdown",
   "metadata": {},
   "source": [
    "####  Northern Hemisphere - Max Temp vs. Latitude Linear Regression"
   ]
  },
  {
   "cell_type": "code",
   "execution_count": 156,
   "metadata": {},
   "outputs": [
    {
     "name": "stdout",
     "output_type": "stream",
     "text": [
      "The r-squared is: 0.5341402979311405\n"
     ]
    },
    {
     "data": {
      "image/png": "[encoded data removed]",
      "text/plain": [
       "<Figure size 432x288 with 1 Axes>"
      ]
     },
     "metadata": {
      "needs_background": "light"
     },
     "output_type": "display_data"
    }
   ],
   "source": [
    "#create the charts based on the norther df or southern df\n",
    "\n",
    "splot(nhem_df['Lat'],nhem_df['Max Temp'], title = (f'N Hemisphere: Max Temp vs Latitude {date_stamp}'), xlabel = \"Latitude\", ylabel = \"Max Temp\", annotation = (50,90))\n",
    "\n",
    "#print scatter plot to png file - commented out afterwards\n",
    "#plt.savefig(\"N Hemi - Max Temp vs Latitude Linear Regression.png\")\n"
   ]
  },
  {
   "cell_type": "code",
   "execution_count": 136,
   "metadata": {},
   "outputs": [],
   "source": [
    "#analysis: there is a strong correlation between latitude and max temp. We looked at temperatures on July 11,2020. It makes sense that temperatures decrease the further away you are from the equator."
   ]
  },
  {
   "cell_type": "markdown",
   "metadata": {},
   "source": [
    "####  Southern Hemisphere - Max Temp vs. Latitude Linear Regression"
   ]
  },
  {
   "cell_type": "code",
   "execution_count": 157,
   "metadata": {},
   "outputs": [
    {
     "name": "stdout",
     "output_type": "stream",
     "text": [
      "The r-squared is: 0.6518200727499208\n"
     ]
    },
    {
     "data": {
      "image/png": "[encoded data removed]",
      "text/plain": [
       "<Figure size 432x288 with 1 Axes>"
      ]
     },
     "metadata": {
      "needs_background": "light"
     },
     "output_type": "display_data"
    }
   ],
   "source": [
    "splot(shem_df['Lat'],shem_df['Max Temp'], title = (f'S Hemisphere: Max Temp vs Latitude {date_stamp}'), xlabel = \"Latitude\", ylabel = \"Max Temp\", annotation = (-50,90))\n",
    "\n",
    "#print scatter plot to png file - commented out afterwards\n",
    "#plt.savefig(\"S Hemi - Max Temp vs Latitude Linear Regression.png\")"
   ]
  },
  {
   "cell_type": "code",
   "execution_count": 138,
   "metadata": {},
   "outputs": [],
   "source": [
    "#analysis: there is a strong correlation between latitude and max temp. We looked at temperatures on July 11,2020.It makes sense that temperatures increase the closer you get to the equator."
   ]
  },
  {
   "cell_type": "markdown",
   "metadata": {},
   "source": [
    "####  Northern Hemisphere - Humidity (%) vs. Latitude Linear Regression"
   ]
  },
  {
   "cell_type": "code",
   "execution_count": 158,
   "metadata": {},
   "outputs": [
    {
     "name": "stdout",
     "output_type": "stream",
     "text": [
      "The r-squared is: 0.004434821452488149\n"
     ]
    },
    {
     "data": {
      "image/png": "[encoded data removed]",
      "text/plain": [
       "<Figure size 432x288 with 1 Axes>"
      ]
     },
     "metadata": {
      "needs_background": "light"
     },
     "output_type": "display_data"
    }
   ],
   "source": [
    "splot(nhem_df['Lat'],nhem_df['Humidity'], title = (f'N Hemisphere: Humidity(%) {date_stamp}'), xlabel = \"Latitude\", ylabel = \"Humidity(%)\", annotation = (50,20))\n",
    "\n",
    "#print scatter plot to png file - commented out afterwards\n",
    "#plt.savefig(\"N Hemi - Humidity vs Latitude Linear Regression.png\")"
   ]
  },
  {
   "cell_type": "code",
   "execution_count": 140,
   "metadata": {},
   "outputs": [],
   "source": [
    "#analysis: higher humidity is more common around the world. there is no correlation between latitude and humidity."
   ]
  },
  {
   "cell_type": "markdown",
   "metadata": {},
   "source": [
    "####  Southern Hemisphere - Humidity (%) vs. Latitude Linear Regression"
   ]
  },
  {
   "cell_type": "code",
   "execution_count": 159,
   "metadata": {},
   "outputs": [
    {
     "name": "stdout",
     "output_type": "stream",
     "text": [
      "The r-squared is: 0.00348766706192968\n"
     ]
    },
    {
     "data": {
      "image/png": "[encoded data removed]",
      "text/plain": [
       "<Figure size 432x288 with 1 Axes>"
      ]
     },
     "metadata": {
      "needs_background": "light"
     },
     "output_type": "display_data"
    }
   ],
   "source": [
    "splot(shem_df['Lat'],shem_df['Humidity'], title = (f'S Hemisphere: Humidity (%) vs Latitude {date_stamp}'), xlabel = \"Latitude\", ylabel = \"Humidity(%)\", annotation = (-50,20))\n",
    "\n",
    "#print scatter plot to png file - commented out afterwards\n",
    "#plt.savefig(\"S Hemi - Humidity vs Latitude Linear Regression.png\")"
   ]
  },
  {
   "cell_type": "code",
   "execution_count": 142,
   "metadata": {},
   "outputs": [],
   "source": [
    "#analysis: higher humidity is more common around the world. there is no correlation between latitude and humidity."
   ]
  },
  {
   "cell_type": "markdown",
   "metadata": {},
   "source": [
    "####  Northern Hemisphere - Cloudiness (%) vs. Latitude Linear Regression"
   ]
  },
  {
   "cell_type": "code",
   "execution_count": 160,
   "metadata": {},
   "outputs": [
    {
     "name": "stdout",
     "output_type": "stream",
     "text": [
      "The r-squared is: 0.0025397742749449963\n"
     ]
    },
    {
     "data": {
      "image/png": "[encoded data removed]",
      "text/plain": [
       "<Figure size 432x288 with 1 Axes>"
      ]
     },
     "metadata": {
      "needs_background": "light"
     },
     "output_type": "display_data"
    }
   ],
   "source": [
    "splot(nhem_df['Lat'],nhem_df['Cloudiness'], title = (f'Cloudiness vs Latitude Linear Regression {date_stamp}'), xlabel = \"Latitude\", ylabel = \"Cloudiness(%)\", annotation = (60,65))\n",
    "\n",
    "#print scatter plot to png file - commented out afterwards\n",
    "#plt.savefig(\"N Hemi - Cloudiness vs Latitude Linear Regression.png\")"
   ]
  },
  {
   "cell_type": "code",
   "execution_count": 144,
   "metadata": {},
   "outputs": [],
   "source": [
    "#analysis: there is no correlation between cloudiness and latitude."
   ]
  },
  {
   "cell_type": "markdown",
   "metadata": {},
   "source": [
    "####  Southern Hemisphere - Cloudiness (%) vs. Latitude Linear Regression"
   ]
  },
  {
   "cell_type": "code",
   "execution_count": 161,
   "metadata": {},
   "outputs": [
    {
     "name": "stdout",
     "output_type": "stream",
     "text": [
      "The r-squared is: 0.06287348875800795\n"
     ]
    },
    {
     "data": {
      "image/png": "[encoded data removed]",
      "text/plain": [
       "<Figure size 432x288 with 1 Axes>"
      ]
     },
     "metadata": {
      "needs_background": "light"
     },
     "output_type": "display_data"
    }
   ],
   "source": [
    "splot(shem_df['Lat'],shem_df['Cloudiness'], title = (f'S Hemisphere: Cloudiness(%) vs Latitude {date_stamp}'), xlabel = \"Latitude\", ylabel = \"Cloudiness(%)\", annotation = (-55,50))\n",
    "\n",
    "#print scatter plot to png file - commented out afterwards\n",
    "#plt.savefig(\"S Hemi - Cloudiness vs Latitude Linear Regression.png\")"
   ]
  },
  {
   "cell_type": "code",
   "execution_count": 146,
   "metadata": {},
   "outputs": [],
   "source": [
    "#analysis: there is no correlation between cloudiness and latitude."
   ]
  },
  {
   "cell_type": "markdown",
   "metadata": {},
   "source": [
    "####  Northern Hemisphere - Wind Speed (mph) vs. Latitude Linear Regression"
   ]
  },
  {
   "cell_type": "code",
   "execution_count": 163,
   "metadata": {},
   "outputs": [
    {
     "name": "stdout",
     "output_type": "stream",
     "text": [
      "The r-squared is: 0.004820364582316514\n"
     ]
    },
    {
     "data": {
      "image/png": "[encoded data removed]",
      "text/plain": [
       "<Figure size 432x288 with 1 Axes>"
      ]
     },
     "metadata": {
      "needs_background": "light"
     },
     "output_type": "display_data"
    }
   ],
   "source": [
    "splot(nhem_df['Lat'],nhem_df['Wind Speed'], title = (f'N Hemisphere Wind Speed (mph) vs Latitude {date_stamp}'), xlabel = \"Latitude\", ylabel = \"Wind Speed (mph)\", annotation = (20,30))\n",
    "\n",
    "#print scatter plot to png file - commented out afterwards\n",
    "#plt.savefig(\"N Hemi - Wind Speed vs Latitude Linear Regression.png\")"
   ]
  },
  {
   "cell_type": "code",
   "execution_count": 148,
   "metadata": {},
   "outputs": [],
   "source": [
    "#analysis: most wind speeds are under 15 mph. there is no correlation between latitude and wind speed."
   ]
  },
  {
   "cell_type": "markdown",
   "metadata": {},
   "source": [
    "####  Southern Hemisphere - Wind Speed (mph) vs. Latitude Linear Regression"
   ]
  },
  {
   "cell_type": "code",
   "execution_count": 166,
   "metadata": {},
   "outputs": [
    {
     "name": "stdout",
     "output_type": "stream",
     "text": [
      "The r-squared is: 0.029160431982854118\n"
     ]
    },
    {
     "data": {
      "image/png": "[encoded data removed]",
      "text/plain": [
       "<Figure size 432x288 with 1 Axes>"
      ]
     },
     "metadata": {
      "needs_background": "light"
     },
     "output_type": "display_data"
    }
   ],
   "source": [
    "splot(shem_df['Wind Speed'],shem_df['Lat'], title = (f'S Hemisphere Wind Sped (mph) vs Latitude {date_stamp}'), xlabel = \"Latitude\", ylabel = \"Wind Speed (mph)\", annotation = (20,-20))\n",
    "\n",
    "#print scatter plot to png file - commented out afterwards\n",
    "#plt.savefig(\"S Hemi - Wind Speed vs Latitude Linear Regression.png\")"
   ]
  },
  {
   "cell_type": "code",
   "execution_count": 150,
   "metadata": {},
   "outputs": [],
   "source": [
    "#analysis: most wind speeds are under 15 mph. there is no correlation between latitude and wind speed."
   ]
  }
 ],
 "metadata": {
  "anaconda-cloud": {},
  "kernel_info": {
   "name": "python3"
  },
  "kernelspec": {
   "display_name": "Python 3",
   "language": "python",
   "name": "python3"
  },
  "language_info": {
   "codemirror_mode": {
    "name": "ipython",
    "version": 3
   },
   "file_extension": ".py",
   "mimetype": "text/x-python",
   "name": "python",
   "nbconvert_exporter": "python",
   "pygments_lexer": "ipython3",
   "version": "3.7.6"
  },
  "latex_envs": {
   "LaTeX_envs_menu_present": true,
   "autoclose": false,
   "autocomplete": true,
   "bibliofile": "biblio.bib",
   "cite_by": "apalike",
   "current_citInitial": 1,
   "eqLabelWithNumbers": true,
   "eqNumInitial": 1,
   "hotkeys": {
    "equation": "Ctrl-E",
    "itemize": "Ctrl-I"
   },
   "labels_anchors": false,
   "latex_user_defs": false,
   "report_style_numbering": false,
   "user_envs_cfg": false
  },
  "nteract": {
   "version": "0.12.3"
  }
 },
 "nbformat": 4,
 "nbformat_minor": 2
}
